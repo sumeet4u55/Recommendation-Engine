{
 "cells": [
  {
   "cell_type": "code",
   "execution_count": 1,
   "metadata": {},
   "outputs": [],
   "source": [
    "import numpy as np\n",
    "import pandas as pd\n",
    "import seaborn as sns\n",
    "import matplotlib.pyplot as plt\n",
    "%matplotlib inline\n",
    "from sklearn.model_selection import train_test_split\n",
    "import warnings\n",
    "warnings.filterwarnings(\"ignore\")"
   ]
  },
  {
   "cell_type": "code",
   "execution_count": 65,
   "metadata": {},
   "outputs": [
    {
     "data": {
      "text/html": [
       "<div>\n",
       "<style scoped>\n",
       "    .dataframe tbody tr th:only-of-type {\n",
       "        vertical-align: middle;\n",
       "    }\n",
       "\n",
       "    .dataframe tbody tr th {\n",
       "        vertical-align: top;\n",
       "    }\n",
       "\n",
       "    .dataframe thead th {\n",
       "        text-align: right;\n",
       "    }\n",
       "</style>\n",
       "<table border=\"1\" class=\"dataframe\">\n",
       "  <thead>\n",
       "    <tr style=\"text-align: right;\">\n",
       "      <th></th>\n",
       "      <th>id</th>\n",
       "      <th>brand</th>\n",
       "      <th>categories</th>\n",
       "      <th>manufacturer</th>\n",
       "      <th>name</th>\n",
       "      <th>reviews_date</th>\n",
       "      <th>reviews_didPurchase</th>\n",
       "      <th>reviews_doRecommend</th>\n",
       "      <th>reviews_rating</th>\n",
       "      <th>reviews_text</th>\n",
       "      <th>reviews_title</th>\n",
       "      <th>reviews_username</th>\n",
       "      <th>user_sentiment</th>\n",
       "    </tr>\n",
       "  </thead>\n",
       "  <tbody>\n",
       "    <tr>\n",
       "      <th>0</th>\n",
       "      <td>AV13O1A8GV-KLJ3akUyj</td>\n",
       "      <td>Universal Music</td>\n",
       "      <td>Movies, Music &amp; Books,Music,R&amp;b,Movies &amp; TV,Mo...</td>\n",
       "      <td>Universal Music Group / Cash Money</td>\n",
       "      <td>Pink Friday: Roman Reloaded Re-Up (w/dvd)</td>\n",
       "      <td>2012-11-30 06:21:45+00:00</td>\n",
       "      <td>Null</td>\n",
       "      <td>NaN</td>\n",
       "      <td>5</td>\n",
       "      <td>i love this album. it's very good. more to the...</td>\n",
       "      <td>Just Awesome</td>\n",
       "      <td>joshua</td>\n",
       "      <td>Positive</td>\n",
       "    </tr>\n",
       "    <tr>\n",
       "      <th>1</th>\n",
       "      <td>AV14LG0R-jtxr-f38QfS</td>\n",
       "      <td>Lundberg</td>\n",
       "      <td>Food,Packaged Foods,Snacks,Crackers,Snacks, Co...</td>\n",
       "      <td>Lundberg</td>\n",
       "      <td>Lundberg Organic Cinnamon Toast Rice Cakes</td>\n",
       "      <td>2017-07-09 00:00:00+00:00</td>\n",
       "      <td>True</td>\n",
       "      <td>NaN</td>\n",
       "      <td>5</td>\n",
       "      <td>Good flavor. This review was collected as part...</td>\n",
       "      <td>Good</td>\n",
       "      <td>dorothy w</td>\n",
       "      <td>Positive</td>\n",
       "    </tr>\n",
       "    <tr>\n",
       "      <th>3</th>\n",
       "      <td>AV16khLE-jtxr-f38VFn</td>\n",
       "      <td>K-Y</td>\n",
       "      <td>Personal Care,Medicine Cabinet,Lubricant/Sperm...</td>\n",
       "      <td>K-Y</td>\n",
       "      <td>K-Y Love Sensuality Pleasure Gel</td>\n",
       "      <td>2016-01-06 00:00:00+00:00</td>\n",
       "      <td>False</td>\n",
       "      <td>False</td>\n",
       "      <td>1</td>\n",
       "      <td>I read through the reviews on here before look...</td>\n",
       "      <td>Disappointed</td>\n",
       "      <td>rebecca</td>\n",
       "      <td>Negative</td>\n",
       "    </tr>\n",
       "    <tr>\n",
       "      <th>4</th>\n",
       "      <td>AV16khLE-jtxr-f38VFn</td>\n",
       "      <td>K-Y</td>\n",
       "      <td>Personal Care,Medicine Cabinet,Lubricant/Sperm...</td>\n",
       "      <td>K-Y</td>\n",
       "      <td>K-Y Love Sensuality Pleasure Gel</td>\n",
       "      <td>2016-12-21 00:00:00+00:00</td>\n",
       "      <td>False</td>\n",
       "      <td>False</td>\n",
       "      <td>1</td>\n",
       "      <td>My husband bought this gel for us. The gel cau...</td>\n",
       "      <td>Irritation</td>\n",
       "      <td>walker557</td>\n",
       "      <td>Negative</td>\n",
       "    </tr>\n",
       "    <tr>\n",
       "      <th>5</th>\n",
       "      <td>AV16khLE-jtxr-f38VFn</td>\n",
       "      <td>K-Y</td>\n",
       "      <td>Personal Care,Medicine Cabinet,Lubricant/Sperm...</td>\n",
       "      <td>K-Y</td>\n",
       "      <td>K-Y Love Sensuality Pleasure Gel</td>\n",
       "      <td>2016-04-20 00:00:00+00:00</td>\n",
       "      <td>False</td>\n",
       "      <td>False</td>\n",
       "      <td>1</td>\n",
       "      <td>My boyfriend and I bought this to spice things...</td>\n",
       "      <td>Not worth it</td>\n",
       "      <td>samantha</td>\n",
       "      <td>Negative</td>\n",
       "    </tr>\n",
       "  </tbody>\n",
       "</table>\n",
       "</div>"
      ],
      "text/plain": [
       "                     id            brand  \\\n",
       "0  AV13O1A8GV-KLJ3akUyj  Universal Music   \n",
       "1  AV14LG0R-jtxr-f38QfS         Lundberg   \n",
       "3  AV16khLE-jtxr-f38VFn              K-Y   \n",
       "4  AV16khLE-jtxr-f38VFn              K-Y   \n",
       "5  AV16khLE-jtxr-f38VFn              K-Y   \n",
       "\n",
       "                                          categories  \\\n",
       "0  Movies, Music & Books,Music,R&b,Movies & TV,Mo...   \n",
       "1  Food,Packaged Foods,Snacks,Crackers,Snacks, Co...   \n",
       "3  Personal Care,Medicine Cabinet,Lubricant/Sperm...   \n",
       "4  Personal Care,Medicine Cabinet,Lubricant/Sperm...   \n",
       "5  Personal Care,Medicine Cabinet,Lubricant/Sperm...   \n",
       "\n",
       "                         manufacturer  \\\n",
       "0  Universal Music Group / Cash Money   \n",
       "1                            Lundberg   \n",
       "3                                 K-Y   \n",
       "4                                 K-Y   \n",
       "5                                 K-Y   \n",
       "\n",
       "                                         name              reviews_date  \\\n",
       "0   Pink Friday: Roman Reloaded Re-Up (w/dvd) 2012-11-30 06:21:45+00:00   \n",
       "1  Lundberg Organic Cinnamon Toast Rice Cakes 2017-07-09 00:00:00+00:00   \n",
       "3            K-Y Love Sensuality Pleasure Gel 2016-01-06 00:00:00+00:00   \n",
       "4            K-Y Love Sensuality Pleasure Gel 2016-12-21 00:00:00+00:00   \n",
       "5            K-Y Love Sensuality Pleasure Gel 2016-04-20 00:00:00+00:00   \n",
       "\n",
       "  reviews_didPurchase reviews_doRecommend  reviews_rating  \\\n",
       "0                Null                 NaN               5   \n",
       "1                True                 NaN               5   \n",
       "3               False               False               1   \n",
       "4               False               False               1   \n",
       "5               False               False               1   \n",
       "\n",
       "                                        reviews_text reviews_title  \\\n",
       "0  i love this album. it's very good. more to the...  Just Awesome   \n",
       "1  Good flavor. This review was collected as part...          Good   \n",
       "3  I read through the reviews on here before look...  Disappointed   \n",
       "4  My husband bought this gel for us. The gel cau...    Irritation   \n",
       "5  My boyfriend and I bought this to spice things...  Not worth it   \n",
       "\n",
       "  reviews_username user_sentiment  \n",
       "0           joshua       Positive  \n",
       "1        dorothy w       Positive  \n",
       "3          rebecca       Negative  \n",
       "4        walker557       Negative  \n",
       "5         samantha       Negative  "
      ]
     },
     "execution_count": 65,
     "metadata": {},
     "output_type": "execute_result"
    }
   ],
   "source": [
    "# import the cleaned data\n",
    "df = pd.read_pickle('./data/final_eda',compression='zip' )\n",
    "df.head()"
   ]
  },
  {
   "cell_type": "code",
   "execution_count": 3,
   "metadata": {},
   "outputs": [
    {
     "data": {
      "text/html": [
       "<div>\n",
       "<style scoped>\n",
       "    .dataframe tbody tr th:only-of-type {\n",
       "        vertical-align: middle;\n",
       "    }\n",
       "\n",
       "    .dataframe tbody tr th {\n",
       "        vertical-align: top;\n",
       "    }\n",
       "\n",
       "    .dataframe thead th {\n",
       "        text-align: right;\n",
       "    }\n",
       "</style>\n",
       "<table border=\"1\" class=\"dataframe\">\n",
       "  <thead>\n",
       "    <tr style=\"text-align: right;\">\n",
       "      <th></th>\n",
       "      <th>reviews_text</th>\n",
       "      <th>reviews_title</th>\n",
       "      <th>user_sentiment</th>\n",
       "    </tr>\n",
       "  </thead>\n",
       "  <tbody>\n",
       "    <tr>\n",
       "      <th>0</th>\n",
       "      <td>i love this album. it's very good. more to the...</td>\n",
       "      <td>Just Awesome</td>\n",
       "      <td>Positive</td>\n",
       "    </tr>\n",
       "    <tr>\n",
       "      <th>1</th>\n",
       "      <td>Good flavor. This review was collected as part...</td>\n",
       "      <td>Good</td>\n",
       "      <td>Positive</td>\n",
       "    </tr>\n",
       "    <tr>\n",
       "      <th>3</th>\n",
       "      <td>I read through the reviews on here before look...</td>\n",
       "      <td>Disappointed</td>\n",
       "      <td>Negative</td>\n",
       "    </tr>\n",
       "    <tr>\n",
       "      <th>4</th>\n",
       "      <td>My husband bought this gel for us. The gel cau...</td>\n",
       "      <td>Irritation</td>\n",
       "      <td>Negative</td>\n",
       "    </tr>\n",
       "    <tr>\n",
       "      <th>5</th>\n",
       "      <td>My boyfriend and I bought this to spice things...</td>\n",
       "      <td>Not worth it</td>\n",
       "      <td>Negative</td>\n",
       "    </tr>\n",
       "  </tbody>\n",
       "</table>\n",
       "</div>"
      ],
      "text/plain": [
       "                                        reviews_text reviews_title  \\\n",
       "0  i love this album. it's very good. more to the...  Just Awesome   \n",
       "1  Good flavor. This review was collected as part...          Good   \n",
       "3  I read through the reviews on here before look...  Disappointed   \n",
       "4  My husband bought this gel for us. The gel cau...    Irritation   \n",
       "5  My boyfriend and I bought this to spice things...  Not worth it   \n",
       "\n",
       "  user_sentiment  \n",
       "0       Positive  \n",
       "1       Positive  \n",
       "3       Negative  \n",
       "4       Negative  \n",
       "5       Negative  "
      ]
     },
     "execution_count": 3,
     "metadata": {},
     "output_type": "execute_result"
    }
   ],
   "source": [
    "# Since we only need a few columns for text processing we will reduce the data set.\n",
    "df = df[['reviews_text', 'reviews_title', 'user_sentiment']]\n",
    "df.head()"
   ]
  },
  {
   "cell_type": "code",
   "execution_count": 4,
   "metadata": {},
   "outputs": [
    {
     "data": {
      "text/plain": [
       "(27403, 3)"
      ]
     },
     "execution_count": 4,
     "metadata": {},
     "output_type": "execute_result"
    }
   ],
   "source": [
    "df.shape"
   ]
  },
  {
   "cell_type": "markdown",
   "metadata": {},
   "source": [
    "## Text Preprocessing"
   ]
  },
  {
   "cell_type": "markdown",
   "metadata": {},
   "source": [
    "We will follow the below cleaning process,\n",
    "\n",
    "1. Remove punctuations\n",
    "2. Remove special characters\n",
    "3. Stop Words Removal\n",
    "4. Stemming and Lemmatization"
   ]
  },
  {
   "cell_type": "code",
   "execution_count": 5,
   "metadata": {},
   "outputs": [],
   "source": [
    "# Useful functions for text manipulation\n",
    "import nltk\n",
    "from nltk import sent_tokenize, word_tokenize, pos_tag\n",
    "from nltk.tokenize import RegexpTokenizer\n",
    "from nltk.corpus import stopwords\n",
    "\n",
    "import string\n",
    "\n",
    "punc_ext = string.punctuation\n",
    "tokenizer = RegexpTokenizer(r'\\w+')\n",
    "stop_words = set(stopwords.words('english'))\n",
    "\n",
    "\n",
    "def lower_data(col):\n",
    "    lower_col = col.apply(lambda x: x.lower())\n",
    "    return lower_col\n",
    "\n",
    "def remove_punctuation(text):\n",
    "    return text.translate(text.maketrans('', '', punc_ext))\n",
    "\n",
    "def remove_special_characters(col):\n",
    "    no_special_characters = col.replace(r'[^A-Za-z0-9 ]+', '', regex=True)\n",
    "    return no_special_characters\n",
    "\n",
    "def remove_whitespace(col):\n",
    "    # replace more than 1 space with 1 space\n",
    "    merged_spaces = col.apply(lambda x: x.replace(r\"\\s\\s+\",' '))\n",
    "    # delete beginning and trailing spaces\n",
    "    trimmed_spaces = merged_spaces.apply(lambda x: x.strip())\n",
    "    return trimmed_spaces\n",
    "\n",
    "def remove_website_links(col):\n",
    "    no_website_links = col.str.replace(r\"http\\S+\", \"\")\n",
    "    return no_website_links\n",
    "\n",
    "def remove_numbers(col):\n",
    "    removed_numbers = col.apply(lambda x: x.replace(r'\\d+',''))\n",
    "    return removed_numbers\n",
    "\n",
    "def remove_emails(col):\n",
    "    no_emails = col.apply(lambda x: x.replace(r\"\\S*@\\S*\\s?\", \"\"))\n",
    "    return no_emails\n",
    "\n",
    "def tokenize_col(col):\n",
    "    tokenized_col = col.apply(lambda x: tokenizer.tokenize(str(x)))\n",
    "    return tokenized_col\n",
    "\n",
    "def remove_stopwords(text): \n",
    "    words = [w for w in text if w not in stopwords.words('english')]\n",
    "    return words\n",
    "\n"
   ]
  },
  {
   "cell_type": "code",
   "execution_count": 6,
   "metadata": {},
   "outputs": [],
   "source": [
    "# lower text\n",
    "df['reviews_text'] = lower_data(df['reviews_text'])\n",
    "df['reviews_title'] = lower_data(df['reviews_title'])\n",
    "\n",
    "# Remove whitespaces\n",
    "df['reviews_text'] = remove_whitespace(df['reviews_text'])\n",
    "df['reviews_title'] = remove_whitespace(df['reviews_title'])\n",
    "\n",
    "# Remove punctuations\n",
    "df['reviews_text'] = df['reviews_text'].apply(lambda line: remove_punctuation(line))\n",
    "df['reviews_title'] = df['reviews_title'].apply(lambda line: remove_punctuation(line))\n",
    "\n",
    "# Remove special characters\n",
    "df['reviews_text'] = remove_special_characters(df['reviews_text'])\n",
    "df['reviews_title'] = remove_special_characters(df['reviews_title'])\n",
    "\n",
    "# Remove website links\n",
    "df['reviews_text'] = remove_website_links(df['reviews_text'])\n",
    "df['reviews_title'] = remove_website_links(df['reviews_title'])\n",
    "\n",
    "# Remove emails\n",
    "df['reviews_text'] = remove_emails(df['reviews_text'])\n",
    "df['reviews_title'] = remove_emails(df['reviews_title'])\n",
    "\n",
    "# Remove numbers\n",
    "df['reviews_text'] = remove_numbers(df['reviews_text'])\n",
    "df['reviews_title'] = remove_numbers(df['reviews_title'])\n",
    "\n"
   ]
  },
  {
   "cell_type": "code",
   "execution_count": 7,
   "metadata": {},
   "outputs": [],
   "source": [
    "from wordcloud import WordCloud, STOPWORDS\n",
    "stopwords = set(STOPWORDS)\n",
    "\n",
    "def show_wordcloud(data, title = None):\n",
    "    wordcloud = WordCloud(\n",
    "        background_color='black',\n",
    "        stopwords=stopwords,\n",
    "        max_words=200,\n",
    "        max_font_size=40, \n",
    "        scale=3,\n",
    "        random_state=1\n",
    ").generate(str(data))\n",
    "\n",
    "    fig = plt.figure(1, figsize=(15, 15))\n",
    "    plt.axis('off')\n",
    "    if title: \n",
    "        fig.suptitle(title, fontsize=20)\n",
    "        fig.subplots_adjust(top=2.3)\n",
    "\n",
    "    plt.imshow(wordcloud)\n",
    "    plt.show()"
   ]
  },
  {
   "cell_type": "code",
   "execution_count": null,
   "metadata": {},
   "outputs": [],
   "source": []
  },
  {
   "cell_type": "markdown",
   "metadata": {},
   "source": [
    "### Visualising the commonly used words in text and title of reviews"
   ]
  },
  {
   "cell_type": "code",
   "execution_count": 8,
   "metadata": {},
   "outputs": [
    {
     "data": {
      "image/png": "[encoded data removed]",
      "text/plain": [
       "<Figure size 1080x1080 with 1 Axes>"
      ]
     },
     "metadata": {
      "needs_background": "light"
     },
     "output_type": "display_data"
    }
   ],
   "source": [
    "show_wordcloud(df['reviews_text'])"
   ]
  },
  {
   "cell_type": "code",
   "execution_count": 9,
   "metadata": {},
   "outputs": [
    {
     "data": {
      "image/png": "[encoded data removed]",
      "text/plain": [
       "<Figure size 1080x1080 with 1 Axes>"
      ]
     },
     "metadata": {
      "needs_background": "light"
     },
     "output_type": "display_data"
    }
   ],
   "source": [
    "show_wordcloud(df['reviews_title'])"
   ]
  },
  {
   "cell_type": "code",
   "execution_count": null,
   "metadata": {},
   "outputs": [],
   "source": []
  },
  {
   "cell_type": "code",
   "execution_count": 10,
   "metadata": {},
   "outputs": [],
   "source": [
    "df['Independent_Var'] = df['reviews_text'] + ' ' + df['reviews_title']"
   ]
  },
  {
   "cell_type": "code",
   "execution_count": 11,
   "metadata": {},
   "outputs": [
    {
     "data": {
      "text/plain": [
       "0    i love this album its very good more to the hi...\n",
       "1    good flavor this review was collected as part ...\n",
       "3    i read through the reviews on here before look...\n",
       "4    my husband bought this gel for us the gel caus...\n",
       "5    my boyfriend and i bought this to spice things...\n",
       "Name: Independent_Var, dtype: object"
      ]
     },
     "execution_count": 11,
     "metadata": {},
     "output_type": "execute_result"
    }
   ],
   "source": [
    "df['Independent_Var'].head()"
   ]
  },
  {
   "cell_type": "code",
   "execution_count": null,
   "metadata": {},
   "outputs": [],
   "source": []
  },
  {
   "cell_type": "code",
   "execution_count": 12,
   "metadata": {},
   "outputs": [],
   "source": [
    "# The goal of both stemming and lemmatization is to \n",
    "# reduce inflectional forms and sometimes derivationally related forms of a word to a common base form.\n",
    "\n",
    "# Adopting Lemmatization gives an added advantage of getting meaningful and accurate\n",
    "# root words clubbed from different forms.\n",
    "\n",
    "# Hence we will use Lemmatization in our project to retain the meaning.\n",
    "from nltk.stem import WordNetLemmatizer, PorterStemmer\n",
    "from nltk.tokenize import word_tokenize\n",
    "from nltk.corpus import stopwords\n",
    "\n",
    "lemmatizer = WordNetLemmatizer()\n",
    "stemmer = PorterStemmer()\n",
    "\n",
    "def word_lemmatizer(text):\n",
    "    \n",
    "    words = word_tokenize(text)\n",
    "    \n",
    "    words = [word for word in words if word not in stopwords.words(\"english\")]\n",
    "\n",
    "    lem_text = [lemmatizer.lemmatize(i) for i in words]\n",
    "    lem_text = \" \".join(lem_text)\n",
    "    \n",
    "    return lem_text\n",
    "\n",
    "df['Independent_Var'] = [ word_lemmatizer(i) for i in df['Independent_Var']]"
   ]
  },
  {
   "cell_type": "code",
   "execution_count": 13,
   "metadata": {},
   "outputs": [
    {
     "data": {
      "text/plain": [
       "0    love album good hip hop side current pop sound...\n",
       "1     good flavor review collected part promotion good\n",
       "3    read review looking buying one couple lubrican...\n",
       "4    husband bought gel u gel caused irritation fel...\n",
       "5    boyfriend bought spice thing bedroom highly di...\n",
       "Name: Independent_Var, dtype: object"
      ]
     },
     "execution_count": 13,
     "metadata": {},
     "output_type": "execute_result"
    }
   ],
   "source": [
    "df['Independent_Var'].head()"
   ]
  },
  {
   "cell_type": "code",
   "execution_count": null,
   "metadata": {},
   "outputs": [],
   "source": []
  },
  {
   "cell_type": "code",
   "execution_count": 14,
   "metadata": {},
   "outputs": [],
   "source": [
    "# For user sentiments, converting the true value to 1 and rest 0, and this is out target variable\n",
    "df['user_sentiment'] = np.where((df['user_sentiment'] == 'Positive'), 1, 0)"
   ]
  },
  {
   "cell_type": "code",
   "execution_count": 15,
   "metadata": {},
   "outputs": [],
   "source": [
    "X = df['Independent_Var']\n",
    "y = df['user_sentiment']"
   ]
  },
  {
   "cell_type": "code",
   "execution_count": 16,
   "metadata": {},
   "outputs": [],
   "source": [
    "X_train, X_test, y_train, y_test = train_test_split(X, y, test_size=0.3, random_state=0)\n",
    "\n",
    "train_text_list=X_train.tolist()\n",
    "test_text_list=X_test.tolist()"
   ]
  },
  {
   "cell_type": "code",
   "execution_count": 17,
   "metadata": {},
   "outputs": [
    {
     "name": "stdout",
     "output_type": "stream",
     "text": [
      "X_train (19182,)\n",
      "y_train (19182,)\n",
      "X_test (8221,)\n",
      "y_test (8221,)\n"
     ]
    }
   ],
   "source": [
    "print('X_train', X_train.shape)\n",
    "print('y_train', y_train.shape)\n",
    "print('X_test', X_test.shape)\n",
    "print('y_test', y_test.shape)"
   ]
  },
  {
   "cell_type": "markdown",
   "metadata": {},
   "source": [
    "### TF-IDF model"
   ]
  },
  {
   "cell_type": "code",
   "execution_count": 18,
   "metadata": {},
   "outputs": [],
   "source": [
    "# For Model Building\n",
    "\n",
    "from sklearn.feature_extraction.text import TfidfVectorizer\n",
    "\n",
    "tfidfconverter = TfidfVectorizer(max_features=5000, min_df=5, max_df=0.7, stop_words=stopwords.words('english'))\n",
    "\n",
    "X_train = tfidfconverter.fit_transform(train_text_list).toarray()\n",
    "X_test = tfidfconverter.transform(test_text_list).toarray()"
   ]
  },
  {
   "cell_type": "markdown",
   "metadata": {},
   "source": [
    "### Count Vectorizer"
   ]
  },
  {
   "cell_type": "code",
   "execution_count": 19,
   "metadata": {},
   "outputs": [],
   "source": [
    "# For Naive Bayes model Building\n",
    "\n",
    "from sklearn.feature_extraction.text import CountVectorizer\n",
    "\n",
    "vect = CountVectorizer(stop_words='english',max_features=5000)\n",
    "vect.fit(train_text_list)\n",
    "\n",
    "X_train_nb = vect.transform(train_text_list)\n",
    "X_test_nb =vect.transform(test_text_list)\n"
   ]
  },
  {
   "cell_type": "code",
   "execution_count": null,
   "metadata": {},
   "outputs": [],
   "source": []
  },
  {
   "cell_type": "markdown",
   "metadata": {},
   "source": [
    "## Model Building"
   ]
  },
  {
   "cell_type": "code",
   "execution_count": 20,
   "metadata": {},
   "outputs": [],
   "source": [
    "from sklearn.metrics import f1_score, accuracy_score, confusion_matrix, recall_score\n",
    "from sklearn.metrics import confusion_matrix"
   ]
  },
  {
   "cell_type": "code",
   "execution_count": 21,
   "metadata": {},
   "outputs": [],
   "source": [
    "## Collects all the models evaluation for comparison\n",
    "evaluation_table = pd.DataFrame()"
   ]
  },
  {
   "cell_type": "code",
   "execution_count": 22,
   "metadata": {},
   "outputs": [],
   "source": [
    "# Helper function for evaluation\n",
    "\n",
    "def evaluation_helper(confusion, stats):\n",
    "    TP = confusion[1,1] # true positive \n",
    "    TN = confusion[0,0] # true negatives\n",
    "    FP = confusion[0,1] # false positives\n",
    "    FN = confusion[1,0] # false negatives \n",
    "    stats['Sensitivity'] = TP / float(TP+FN)\n",
    "    stats['Precision'] = TP / float(TP + FP)\n",
    "    stats['Specificity'] = TN / float(TN+FP)\n",
    "    return stats"
   ]
  },
  {
   "cell_type": "code",
   "execution_count": null,
   "metadata": {},
   "outputs": [],
   "source": []
  },
  {
   "cell_type": "code",
   "execution_count": 23,
   "metadata": {},
   "outputs": [],
   "source": [
    "# Model 1: Random Forest Classifier\n",
    "\n",
    "from sklearn.ensemble import RandomForestClassifier\n",
    "from sklearn.metrics import confusion_matrix, classification_report\n",
    "\n",
    "classifier = RandomForestClassifier(class_weight='balanced', max_depth=4, max_features=10,\n",
    "                                    n_estimators=100, random_state=42, n_jobs=-1)\n",
    "classifier.fit(X_train, y_train)\n",
    "preds1 = classifier.predict(X_test)"
   ]
  },
  {
   "cell_type": "code",
   "execution_count": 24,
   "metadata": {},
   "outputs": [
    {
     "name": "stdout",
     "output_type": "stream",
     "text": [
      "Random Forest Model accuracy 0.7545310789441674\n",
      "              precision    recall  f1-score   support\n",
      "\n",
      "           0       0.65      0.25      0.36      2279\n",
      "           1       0.77      0.95      0.85      5942\n",
      "\n",
      "    accuracy                           0.75      8221\n",
      "   macro avg       0.71      0.60      0.61      8221\n",
      "weighted avg       0.73      0.75      0.71      8221\n",
      "\n",
      "[[ 577 1702]\n",
      " [ 316 5626]]\n"
     ]
    }
   ],
   "source": [
    "print(\"Random Forest Model accuracy\", accuracy_score(preds1, y_test))\n",
    "print(classification_report(preds1, y_test))\n",
    "print(confusion_matrix(preds1, y_test))"
   ]
  },
  {
   "cell_type": "code",
   "execution_count": 25,
   "metadata": {},
   "outputs": [],
   "source": [
    "metrics = dict()\n",
    "metrics['Accuracy'] = accuracy_score(y_test, preds1)\n",
    "stats = confusion_matrix(y_test, preds1)"
   ]
  },
  {
   "cell_type": "code",
   "execution_count": 26,
   "metadata": {},
   "outputs": [
    {
     "data": {
      "text/html": [
       "<div>\n",
       "<style scoped>\n",
       "    .dataframe tbody tr th:only-of-type {\n",
       "        vertical-align: middle;\n",
       "    }\n",
       "\n",
       "    .dataframe tbody tr th {\n",
       "        vertical-align: top;\n",
       "    }\n",
       "\n",
       "    .dataframe thead th {\n",
       "        text-align: right;\n",
       "    }\n",
       "</style>\n",
       "<table border=\"1\" class=\"dataframe\">\n",
       "  <thead>\n",
       "    <tr style=\"text-align: right;\">\n",
       "      <th></th>\n",
       "      <th>Accuracy</th>\n",
       "      <th>Precision</th>\n",
       "      <th>Sensitivity</th>\n",
       "      <th>Specificity</th>\n",
       "    </tr>\n",
       "  </thead>\n",
       "  <tbody>\n",
       "    <tr>\n",
       "      <th>RF Model</th>\n",
       "      <td>0.754531</td>\n",
       "      <td>0.946819</td>\n",
       "      <td>0.76774</td>\n",
       "      <td>0.646137</td>\n",
       "    </tr>\n",
       "  </tbody>\n",
       "</table>\n",
       "</div>"
      ],
      "text/plain": [
       "          Accuracy  Precision  Sensitivity  Specificity\n",
       "RF Model  0.754531   0.946819      0.76774     0.646137"
      ]
     },
     "execution_count": 26,
     "metadata": {},
     "output_type": "execute_result"
    }
   ],
   "source": [
    "evaluation_table = evaluation_table.append(pd.Series(evaluation_helper(stats, metrics),name='RF Model'))\n",
    "evaluation_table.head()"
   ]
  },
  {
   "cell_type": "code",
   "execution_count": 27,
   "metadata": {},
   "outputs": [],
   "source": [
    "# Model 2 with Xgboost\n",
    "\n",
    "# import xgboost as xgb\n",
    "\n",
    "# # xgb = xgb.XGBClassifier(n_jobs=1)\n",
    "# # xgb.fit(X_train, y_train)\n",
    "# # preds2 = xgb.predict(X_test)\n",
    "\n",
    "# XGBClassifier = xgb.XGBClassifier\n",
    "\n",
    "# # fit model no training data\n",
    "# model = XGBClassifier()\n",
    "# model.fit(X_train, y_train)\n",
    "\n",
    "\n",
    "# # make predictions for test data\n",
    "# y_pred = model.predict(X_test)\n",
    "# predictions = [round(value) for value in y_pred]\n"
   ]
  },
  {
   "cell_type": "code",
   "execution_count": 28,
   "metadata": {},
   "outputs": [],
   "source": [
    "# # evaluate predictions\n",
    "# print(\"XGBoost Model accuracy\", accuracy_score(y_test, predictions))\n",
    "# print(classification_report(predictions, y_test))\n",
    "# print(confusion_matrix(predictions, y_test))"
   ]
  },
  {
   "cell_type": "code",
   "execution_count": null,
   "metadata": {},
   "outputs": [],
   "source": []
  },
  {
   "cell_type": "code",
   "execution_count": 29,
   "metadata": {},
   "outputs": [],
   "source": [
    "# Model3: Logistic Regression\n",
    "\n",
    "from sklearn.linear_model import LogisticRegression\n",
    "from sklearn.model_selection import KFold, cross_val_score\n",
    "\n",
    "logit = LogisticRegression(random_state=42, C = 3.5, class_weight= 'balanced')\n",
    "logit.fit(X_train, y_train)\n",
    "preds3 = logit.predict(X_test)"
   ]
  },
  {
   "cell_type": "code",
   "execution_count": 30,
   "metadata": {},
   "outputs": [
    {
     "name": "stdout",
     "output_type": "stream",
     "text": [
      "Logistic Regression accuracy 0.8696022381705388\n",
      "              precision    recall  f1-score   support\n",
      "\n",
      "           0       0.79      0.44      0.57      1589\n",
      "           1       0.88      0.97      0.92      6632\n",
      "\n",
      "    accuracy                           0.87      8221\n",
      "   macro avg       0.83      0.71      0.75      8221\n",
      "weighted avg       0.86      0.87      0.85      8221\n",
      "\n",
      "[[ 705  884]\n",
      " [ 188 6444]]\n"
     ]
    }
   ],
   "source": [
    "print(\"Logistic Regression accuracy\", accuracy_score(preds3, y_test))\n",
    "print(classification_report(preds3, y_test))\n",
    "print(confusion_matrix(preds3, y_test))"
   ]
  },
  {
   "cell_type": "code",
   "execution_count": 31,
   "metadata": {},
   "outputs": [],
   "source": [
    "metrics = dict()\n",
    "metrics['Accuracy'] = accuracy_score(y_test, preds3)\n",
    "stats = confusion_matrix(y_test, preds3)"
   ]
  },
  {
   "cell_type": "code",
   "execution_count": 32,
   "metadata": {},
   "outputs": [
    {
     "data": {
      "text/html": [
       "<div>\n",
       "<style scoped>\n",
       "    .dataframe tbody tr th:only-of-type {\n",
       "        vertical-align: middle;\n",
       "    }\n",
       "\n",
       "    .dataframe tbody tr th {\n",
       "        vertical-align: top;\n",
       "    }\n",
       "\n",
       "    .dataframe thead th {\n",
       "        text-align: right;\n",
       "    }\n",
       "</style>\n",
       "<table border=\"1\" class=\"dataframe\">\n",
       "  <thead>\n",
       "    <tr style=\"text-align: right;\">\n",
       "      <th></th>\n",
       "      <th>Accuracy</th>\n",
       "      <th>Precision</th>\n",
       "      <th>Sensitivity</th>\n",
       "      <th>Specificity</th>\n",
       "    </tr>\n",
       "  </thead>\n",
       "  <tbody>\n",
       "    <tr>\n",
       "      <th>RF Model</th>\n",
       "      <td>0.754531</td>\n",
       "      <td>0.946819</td>\n",
       "      <td>0.767740</td>\n",
       "      <td>0.646137</td>\n",
       "    </tr>\n",
       "    <tr>\n",
       "      <th>LR Model</th>\n",
       "      <td>0.869602</td>\n",
       "      <td>0.971653</td>\n",
       "      <td>0.879367</td>\n",
       "      <td>0.789474</td>\n",
       "    </tr>\n",
       "  </tbody>\n",
       "</table>\n",
       "</div>"
      ],
      "text/plain": [
       "          Accuracy  Precision  Sensitivity  Specificity\n",
       "RF Model  0.754531   0.946819     0.767740     0.646137\n",
       "LR Model  0.869602   0.971653     0.879367     0.789474"
      ]
     },
     "execution_count": 32,
     "metadata": {},
     "output_type": "execute_result"
    }
   ],
   "source": [
    "evaluation_table = evaluation_table.append(pd.Series(evaluation_helper(stats, metrics),name='LR Model'))\n",
    "evaluation_table.head()"
   ]
  },
  {
   "cell_type": "code",
   "execution_count": null,
   "metadata": {},
   "outputs": [],
   "source": []
  },
  {
   "cell_type": "code",
   "execution_count": 33,
   "metadata": {},
   "outputs": [],
   "source": [
    "# Model4 Multinomial Naive Bayes\n",
    "# We evaluate this based on Count Vector\n",
    "\n",
    "from sklearn.naive_bayes import MultinomialNB\n",
    "m_nb = MultinomialNB()\n",
    "m_nb.fit(X_train_nb, y_train)\n",
    "\n",
    "preds4 = m_nb.predict(X_test_nb)"
   ]
  },
  {
   "cell_type": "code",
   "execution_count": 34,
   "metadata": {},
   "outputs": [
    {
     "name": "stdout",
     "output_type": "stream",
     "text": [
      "Multinomial NB accuracy 0.8705753557961319\n",
      "              precision    recall  f1-score   support\n",
      "\n",
      "           0       0.30      0.38      0.34       713\n",
      "           1       0.94      0.92      0.93      7508\n",
      "\n",
      "    accuracy                           0.87      8221\n",
      "   macro avg       0.62      0.65      0.63      8221\n",
      "weighted avg       0.88      0.87      0.88      8221\n",
      "\n",
      "[[ 271  442]\n",
      " [ 622 6886]]\n"
     ]
    }
   ],
   "source": [
    "print(\"Multinomial NB accuracy\", accuracy_score(preds4, y_test))\n",
    "print(classification_report(preds4, y_test))\n",
    "print(confusion_matrix(preds4, y_test))"
   ]
  },
  {
   "cell_type": "code",
   "execution_count": 35,
   "metadata": {},
   "outputs": [],
   "source": [
    "metrics = dict()\n",
    "metrics['Accuracy'] = accuracy_score(y_test, preds4)\n",
    "stats = confusion_matrix(y_test, preds4)"
   ]
  },
  {
   "cell_type": "code",
   "execution_count": 36,
   "metadata": {},
   "outputs": [
    {
     "data": {
      "text/html": [
       "<div>\n",
       "<style scoped>\n",
       "    .dataframe tbody tr th:only-of-type {\n",
       "        vertical-align: middle;\n",
       "    }\n",
       "\n",
       "    .dataframe tbody tr th {\n",
       "        vertical-align: top;\n",
       "    }\n",
       "\n",
       "    .dataframe thead th {\n",
       "        text-align: right;\n",
       "    }\n",
       "</style>\n",
       "<table border=\"1\" class=\"dataframe\">\n",
       "  <thead>\n",
       "    <tr style=\"text-align: right;\">\n",
       "      <th></th>\n",
       "      <th>Accuracy</th>\n",
       "      <th>Precision</th>\n",
       "      <th>Sensitivity</th>\n",
       "      <th>Specificity</th>\n",
       "    </tr>\n",
       "  </thead>\n",
       "  <tbody>\n",
       "    <tr>\n",
       "      <th>RF Model</th>\n",
       "      <td>0.754531</td>\n",
       "      <td>0.946819</td>\n",
       "      <td>0.767740</td>\n",
       "      <td>0.646137</td>\n",
       "    </tr>\n",
       "    <tr>\n",
       "      <th>LR Model</th>\n",
       "      <td>0.869602</td>\n",
       "      <td>0.971653</td>\n",
       "      <td>0.879367</td>\n",
       "      <td>0.789474</td>\n",
       "    </tr>\n",
       "    <tr>\n",
       "      <th>Multinomial NB Model</th>\n",
       "      <td>0.870575</td>\n",
       "      <td>0.917155</td>\n",
       "      <td>0.939683</td>\n",
       "      <td>0.303471</td>\n",
       "    </tr>\n",
       "  </tbody>\n",
       "</table>\n",
       "</div>"
      ],
      "text/plain": [
       "                      Accuracy  Precision  Sensitivity  Specificity\n",
       "RF Model              0.754531   0.946819     0.767740     0.646137\n",
       "LR Model              0.869602   0.971653     0.879367     0.789474\n",
       "Multinomial NB Model  0.870575   0.917155     0.939683     0.303471"
      ]
     },
     "execution_count": 36,
     "metadata": {},
     "output_type": "execute_result"
    }
   ],
   "source": [
    "evaluation_table = evaluation_table.append(pd.Series(evaluation_helper(stats, metrics),name='Multinomial NB Model'))\n",
    "evaluation_table.head()"
   ]
  },
  {
   "cell_type": "code",
   "execution_count": null,
   "metadata": {},
   "outputs": [],
   "source": []
  },
  {
   "cell_type": "code",
   "execution_count": 37,
   "metadata": {},
   "outputs": [
    {
     "data": {
      "text/plain": [
       "1    24372\n",
       "0     3031\n",
       "Name: user_sentiment, dtype: int64"
      ]
     },
     "execution_count": 37,
     "metadata": {},
     "output_type": "execute_result"
    }
   ],
   "source": [
    "# Lets check class imbalance in target variable\n",
    "\n",
    "df['user_sentiment'].value_counts()"
   ]
  },
  {
   "cell_type": "code",
   "execution_count": 38,
   "metadata": {},
   "outputs": [],
   "source": [
    "# As there is imbalance in data we will balance the data and build the models again\n",
    "# And based on this find the model that is best for our data.\n",
    "# We will use SMOTE"
   ]
  },
  {
   "cell_type": "code",
   "execution_count": 39,
   "metadata": {},
   "outputs": [
    {
     "name": "stdout",
     "output_type": "stream",
     "text": [
      "Pre SMOTE Counter({1: 17044, 0: 2138})\n",
      "Post Smote Counter({1: 17044, 0: 17044})\n"
     ]
    }
   ],
   "source": [
    "from imblearn.over_sampling import SMOTE\n",
    "from collections import Counter\n",
    "\n",
    "print('Pre SMOTE', Counter(y_train))\n",
    "\n",
    "smt = SMOTE()\n",
    "X_train_smt, y_train_smt = smt.fit_resample(X_train, y_train)\n",
    "\n",
    "print('Post Smote', Counter(y_train_smt))"
   ]
  },
  {
   "cell_type": "code",
   "execution_count": 40,
   "metadata": {},
   "outputs": [
    {
     "name": "stdout",
     "output_type": "stream",
     "text": [
      "Pre SMOTE Counter({1: 17044, 0: 2138})\n",
      "Post Smote Counter({1: 17044, 0: 17044})\n"
     ]
    }
   ],
   "source": [
    "# applying the same for CountVectors\n",
    "\n",
    "print('Pre SMOTE', Counter(y_train))\n",
    "\n",
    "smt = SMOTE()\n",
    "X_train_nbsmt, y_train_nbsmt = smt.fit_resample(X_train_nb, y_train)\n",
    "\n",
    "print('Post Smote', Counter(y_train_nbsmt))"
   ]
  },
  {
   "cell_type": "code",
   "execution_count": null,
   "metadata": {},
   "outputs": [],
   "source": []
  },
  {
   "cell_type": "markdown",
   "metadata": {},
   "source": [
    "### Model Building with Balanced Dataset"
   ]
  },
  {
   "cell_type": "code",
   "execution_count": 41,
   "metadata": {},
   "outputs": [],
   "source": [
    "# Model 1: Random Forest Classifier\n",
    "\n",
    "from sklearn.ensemble import RandomForestClassifier\n",
    "from sklearn.metrics import confusion_matrix, classification_report\n",
    "\n",
    "classifier = RandomForestClassifier(class_weight='balanced', max_depth=4, max_features=10,\n",
    "                                    n_estimators=100, random_state=42, n_jobs=-1)\n",
    "classifier.fit(X_train_smt, y_train_smt)\n",
    "preds1 = classifier.predict(X_test)"
   ]
  },
  {
   "cell_type": "code",
   "execution_count": 42,
   "metadata": {},
   "outputs": [
    {
     "name": "stdout",
     "output_type": "stream",
     "text": [
      "Random Forest Model accuracy 0.7958885780318696\n",
      "              precision    recall  f1-score   support\n",
      "\n",
      "           0       0.40      0.24      0.30      1501\n",
      "           1       0.84      0.92      0.88      6720\n",
      "\n",
      "    accuracy                           0.80      8221\n",
      "   macro avg       0.62      0.58      0.59      8221\n",
      "weighted avg       0.76      0.80      0.77      8221\n",
      "\n",
      "[[ 358 1143]\n",
      " [ 535 6185]]\n"
     ]
    }
   ],
   "source": [
    "print(\"Random Forest Model accuracy\", accuracy_score(preds1, y_test))\n",
    "print(classification_report(preds1, y_test))\n",
    "print(confusion_matrix(preds1, y_test))"
   ]
  },
  {
   "cell_type": "code",
   "execution_count": 43,
   "metadata": {},
   "outputs": [],
   "source": [
    "metrics = dict()\n",
    "metrics['Accuracy'] = accuracy_score(y_test, preds1)\n",
    "stats = confusion_matrix(y_test, preds1)"
   ]
  },
  {
   "cell_type": "code",
   "execution_count": 44,
   "metadata": {},
   "outputs": [
    {
     "data": {
      "text/html": [
       "<div>\n",
       "<style scoped>\n",
       "    .dataframe tbody tr th:only-of-type {\n",
       "        vertical-align: middle;\n",
       "    }\n",
       "\n",
       "    .dataframe tbody tr th {\n",
       "        vertical-align: top;\n",
       "    }\n",
       "\n",
       "    .dataframe thead th {\n",
       "        text-align: right;\n",
       "    }\n",
       "</style>\n",
       "<table border=\"1\" class=\"dataframe\">\n",
       "  <thead>\n",
       "    <tr style=\"text-align: right;\">\n",
       "      <th></th>\n",
       "      <th>Accuracy</th>\n",
       "      <th>Precision</th>\n",
       "      <th>Sensitivity</th>\n",
       "      <th>Specificity</th>\n",
       "    </tr>\n",
       "  </thead>\n",
       "  <tbody>\n",
       "    <tr>\n",
       "      <th>RF Model</th>\n",
       "      <td>0.754531</td>\n",
       "      <td>0.946819</td>\n",
       "      <td>0.767740</td>\n",
       "      <td>0.646137</td>\n",
       "    </tr>\n",
       "    <tr>\n",
       "      <th>LR Model</th>\n",
       "      <td>0.869602</td>\n",
       "      <td>0.971653</td>\n",
       "      <td>0.879367</td>\n",
       "      <td>0.789474</td>\n",
       "    </tr>\n",
       "    <tr>\n",
       "      <th>Multinomial NB Model</th>\n",
       "      <td>0.870575</td>\n",
       "      <td>0.917155</td>\n",
       "      <td>0.939683</td>\n",
       "      <td>0.303471</td>\n",
       "    </tr>\n",
       "    <tr>\n",
       "      <th>RF Model Balanced</th>\n",
       "      <td>0.795889</td>\n",
       "      <td>0.920387</td>\n",
       "      <td>0.844023</td>\n",
       "      <td>0.400896</td>\n",
       "    </tr>\n",
       "  </tbody>\n",
       "</table>\n",
       "</div>"
      ],
      "text/plain": [
       "                      Accuracy  Precision  Sensitivity  Specificity\n",
       "RF Model              0.754531   0.946819     0.767740     0.646137\n",
       "LR Model              0.869602   0.971653     0.879367     0.789474\n",
       "Multinomial NB Model  0.870575   0.917155     0.939683     0.303471\n",
       "RF Model Balanced     0.795889   0.920387     0.844023     0.400896"
      ]
     },
     "execution_count": 44,
     "metadata": {},
     "output_type": "execute_result"
    }
   ],
   "source": [
    "evaluation_table = evaluation_table.append(pd.Series(evaluation_helper(stats, metrics),name='RF Model Balanced'))\n",
    "evaluation_table.head()"
   ]
  },
  {
   "cell_type": "code",
   "execution_count": null,
   "metadata": {},
   "outputs": [],
   "source": []
  },
  {
   "cell_type": "code",
   "execution_count": 45,
   "metadata": {},
   "outputs": [],
   "source": [
    "# Model3: Logistic Regression\n",
    "\n",
    "from sklearn.linear_model import LogisticRegression\n",
    "from sklearn.model_selection import KFold, cross_val_score\n",
    "\n",
    "logit_bal = LogisticRegression(random_state=42, C = 3.5, class_weight= 'balanced')\n",
    "logit_bal.fit(X_train_smt, y_train_smt)\n",
    "preds3 = logit_bal.predict(X_test)"
   ]
  },
  {
   "cell_type": "code",
   "execution_count": 46,
   "metadata": {},
   "outputs": [
    {
     "name": "stdout",
     "output_type": "stream",
     "text": [
      "Logistic Regression accuracy 0.875562583627296\n",
      "              precision    recall  f1-score   support\n",
      "\n",
      "           0       0.74      0.46      0.57      1460\n",
      "           1       0.89      0.97      0.93      6761\n",
      "\n",
      "    accuracy                           0.88      8221\n",
      "   macro avg       0.82      0.71      0.75      8221\n",
      "weighted avg       0.87      0.88      0.86      8221\n",
      "\n",
      "[[ 665  795]\n",
      " [ 228 6533]]\n"
     ]
    }
   ],
   "source": [
    "print(\"Logistic Regression accuracy\", accuracy_score(preds3, y_test))\n",
    "print(classification_report(preds3, y_test))\n",
    "print(confusion_matrix(preds3, y_test))"
   ]
  },
  {
   "cell_type": "code",
   "execution_count": 47,
   "metadata": {},
   "outputs": [],
   "source": [
    "metrics = dict()\n",
    "metrics['Accuracy'] = accuracy_score(y_test, preds3)\n",
    "stats = confusion_matrix(y_test, preds3)"
   ]
  },
  {
   "cell_type": "code",
   "execution_count": 48,
   "metadata": {},
   "outputs": [
    {
     "data": {
      "text/html": [
       "<div>\n",
       "<style scoped>\n",
       "    .dataframe tbody tr th:only-of-type {\n",
       "        vertical-align: middle;\n",
       "    }\n",
       "\n",
       "    .dataframe tbody tr th {\n",
       "        vertical-align: top;\n",
       "    }\n",
       "\n",
       "    .dataframe thead th {\n",
       "        text-align: right;\n",
       "    }\n",
       "</style>\n",
       "<table border=\"1\" class=\"dataframe\">\n",
       "  <thead>\n",
       "    <tr style=\"text-align: right;\">\n",
       "      <th></th>\n",
       "      <th>Accuracy</th>\n",
       "      <th>Precision</th>\n",
       "      <th>Sensitivity</th>\n",
       "      <th>Specificity</th>\n",
       "    </tr>\n",
       "  </thead>\n",
       "  <tbody>\n",
       "    <tr>\n",
       "      <th>RF Model</th>\n",
       "      <td>0.754531</td>\n",
       "      <td>0.946819</td>\n",
       "      <td>0.767740</td>\n",
       "      <td>0.646137</td>\n",
       "    </tr>\n",
       "    <tr>\n",
       "      <th>LR Model</th>\n",
       "      <td>0.869602</td>\n",
       "      <td>0.971653</td>\n",
       "      <td>0.879367</td>\n",
       "      <td>0.789474</td>\n",
       "    </tr>\n",
       "    <tr>\n",
       "      <th>Multinomial NB Model</th>\n",
       "      <td>0.870575</td>\n",
       "      <td>0.917155</td>\n",
       "      <td>0.939683</td>\n",
       "      <td>0.303471</td>\n",
       "    </tr>\n",
       "    <tr>\n",
       "      <th>RF Model Balanced</th>\n",
       "      <td>0.795889</td>\n",
       "      <td>0.920387</td>\n",
       "      <td>0.844023</td>\n",
       "      <td>0.400896</td>\n",
       "    </tr>\n",
       "    <tr>\n",
       "      <th>LR Model Balanced</th>\n",
       "      <td>0.875563</td>\n",
       "      <td>0.966277</td>\n",
       "      <td>0.891512</td>\n",
       "      <td>0.744681</td>\n",
       "    </tr>\n",
       "  </tbody>\n",
       "</table>\n",
       "</div>"
      ],
      "text/plain": [
       "                      Accuracy  Precision  Sensitivity  Specificity\n",
       "RF Model              0.754531   0.946819     0.767740     0.646137\n",
       "LR Model              0.869602   0.971653     0.879367     0.789474\n",
       "Multinomial NB Model  0.870575   0.917155     0.939683     0.303471\n",
       "RF Model Balanced     0.795889   0.920387     0.844023     0.400896\n",
       "LR Model Balanced     0.875563   0.966277     0.891512     0.744681"
      ]
     },
     "execution_count": 48,
     "metadata": {},
     "output_type": "execute_result"
    }
   ],
   "source": [
    "evaluation_table = evaluation_table.append(pd.Series(evaluation_helper(stats, metrics), name='LR Model Balanced'))\n",
    "evaluation_table.head()"
   ]
  },
  {
   "cell_type": "code",
   "execution_count": null,
   "metadata": {},
   "outputs": [],
   "source": []
  },
  {
   "cell_type": "code",
   "execution_count": 49,
   "metadata": {},
   "outputs": [],
   "source": [
    "# Model4 Multinomial Naive Bayes\n",
    "# We evaluate this based on Count Vector\n",
    "\n",
    "from sklearn.naive_bayes import MultinomialNB\n",
    "m_nb = MultinomialNB()\n",
    "m_nb.fit(X_train_nbsmt, y_train_nbsmt)\n",
    "\n",
    "preds4 = m_nb.predict(X_test_nb)"
   ]
  },
  {
   "cell_type": "code",
   "execution_count": 50,
   "metadata": {},
   "outputs": [
    {
     "name": "stdout",
     "output_type": "stream",
     "text": [
      "Multinomial NB accuracy 0.8036735190366135\n",
      "              precision    recall  f1-score   support\n",
      "\n",
      "           0       0.45      0.26      0.33      1519\n",
      "           1       0.85      0.93      0.88      6702\n",
      "\n",
      "    accuracy                           0.80      8221\n",
      "   macro avg       0.65      0.59      0.61      8221\n",
      "weighted avg       0.77      0.80      0.78      8221\n",
      "\n",
      "[[ 399 1120]\n",
      " [ 494 6208]]\n"
     ]
    }
   ],
   "source": [
    "print(\"Multinomial NB accuracy\", accuracy_score(preds4, y_test))\n",
    "print(classification_report(preds4, y_test))\n",
    "print(confusion_matrix(preds4, y_test))"
   ]
  },
  {
   "cell_type": "code",
   "execution_count": 51,
   "metadata": {},
   "outputs": [],
   "source": [
    "metrics = dict()\n",
    "metrics['Accuracy'] = accuracy_score(y_test, preds4)\n",
    "stats = confusion_matrix(y_test, preds4)"
   ]
  },
  {
   "cell_type": "code",
   "execution_count": 52,
   "metadata": {},
   "outputs": [
    {
     "data": {
      "text/html": [
       "<div>\n",
       "<style scoped>\n",
       "    .dataframe tbody tr th:only-of-type {\n",
       "        vertical-align: middle;\n",
       "    }\n",
       "\n",
       "    .dataframe tbody tr th {\n",
       "        vertical-align: top;\n",
       "    }\n",
       "\n",
       "    .dataframe thead th {\n",
       "        text-align: right;\n",
       "    }\n",
       "</style>\n",
       "<table border=\"1\" class=\"dataframe\">\n",
       "  <thead>\n",
       "    <tr style=\"text-align: right;\">\n",
       "      <th></th>\n",
       "      <th>Accuracy</th>\n",
       "      <th>Precision</th>\n",
       "      <th>Sensitivity</th>\n",
       "      <th>Specificity</th>\n",
       "    </tr>\n",
       "  </thead>\n",
       "  <tbody>\n",
       "    <tr>\n",
       "      <th>RF Model</th>\n",
       "      <td>0.754531</td>\n",
       "      <td>0.946819</td>\n",
       "      <td>0.767740</td>\n",
       "      <td>0.646137</td>\n",
       "    </tr>\n",
       "    <tr>\n",
       "      <th>LR Model</th>\n",
       "      <td>0.869602</td>\n",
       "      <td>0.971653</td>\n",
       "      <td>0.879367</td>\n",
       "      <td>0.789474</td>\n",
       "    </tr>\n",
       "    <tr>\n",
       "      <th>Multinomial NB Model</th>\n",
       "      <td>0.870575</td>\n",
       "      <td>0.917155</td>\n",
       "      <td>0.939683</td>\n",
       "      <td>0.303471</td>\n",
       "    </tr>\n",
       "    <tr>\n",
       "      <th>RF Model Balanced</th>\n",
       "      <td>0.795889</td>\n",
       "      <td>0.920387</td>\n",
       "      <td>0.844023</td>\n",
       "      <td>0.400896</td>\n",
       "    </tr>\n",
       "    <tr>\n",
       "      <th>LR Model Balanced</th>\n",
       "      <td>0.875563</td>\n",
       "      <td>0.966277</td>\n",
       "      <td>0.891512</td>\n",
       "      <td>0.744681</td>\n",
       "    </tr>\n",
       "  </tbody>\n",
       "</table>\n",
       "</div>"
      ],
      "text/plain": [
       "                      Accuracy  Precision  Sensitivity  Specificity\n",
       "RF Model              0.754531   0.946819     0.767740     0.646137\n",
       "LR Model              0.869602   0.971653     0.879367     0.789474\n",
       "Multinomial NB Model  0.870575   0.917155     0.939683     0.303471\n",
       "RF Model Balanced     0.795889   0.920387     0.844023     0.400896\n",
       "LR Model Balanced     0.875563   0.966277     0.891512     0.744681"
      ]
     },
     "execution_count": 52,
     "metadata": {},
     "output_type": "execute_result"
    }
   ],
   "source": [
    "evaluation_table = evaluation_table.append(pd.Series(evaluation_helper(stats, metrics),name='Multinomial NB Model Balanced'))\n",
    "evaluation_table.head()"
   ]
  },
  {
   "cell_type": "code",
   "execution_count": 53,
   "metadata": {},
   "outputs": [
    {
     "name": "stdout",
     "output_type": "stream",
     "text": [
      "CPU times: user 2 µs, sys: 0 ns, total: 2 µs\n",
      "Wall time: 28.1 µs\n",
      "Fitting 4 folds for each of 72 candidates, totalling 288 fits\n"
     ]
    }
   ],
   "source": [
    "# Lets tune RF model which has imbalance\n",
    "from sklearn.model_selection import GridSearchCV\n",
    "%time\n",
    "\n",
    "classifier_rf = RandomForestClassifier(random_state=42, n_jobs=-1,class_weight=\"balanced\")\n",
    "# Create the parameter grid based on the results of random search \n",
    "params = {\n",
    "    'max_depth': [4,5,10,15],\n",
    "    'min_samples_leaf': [5, 10, 20],\n",
    "    'max_features': [10,20],\n",
    "    'n_estimators': [30, 50,60]\n",
    "}\n",
    "\n",
    "# Instantiate the grid search model\n",
    "grid_search = GridSearchCV(estimator=classifier_rf, param_grid=params, \n",
    "                          cv=4, n_jobs=-1, verbose=1, scoring = \"recall\")\n",
    "grid_search.fit(X_train, y_train)\n",
    "rf2 = grid_search.best_estimator_\n",
    "\n",
    "preds5 = rf2.predict(X_test)"
   ]
  },
  {
   "cell_type": "code",
   "execution_count": 54,
   "metadata": {},
   "outputs": [
    {
     "name": "stdout",
     "output_type": "stream",
     "text": [
      "Random Forest Model accuracy 0.801119085269432\n",
      "              precision    recall  f1-score   support\n",
      "\n",
      "           0       0.68      0.31      0.43      1962\n",
      "           1       0.82      0.95      0.88      6259\n",
      "\n",
      "    accuracy                           0.80      8221\n",
      "   macro avg       0.75      0.63      0.65      8221\n",
      "weighted avg       0.78      0.80      0.77      8221\n",
      "\n",
      "[[ 610 1352]\n",
      " [ 283 5976]]\n"
     ]
    }
   ],
   "source": [
    "print(\"Random Forest Model accuracy\", accuracy_score(preds5, y_test))\n",
    "print(classification_report(preds5, y_test))\n",
    "print(confusion_matrix(preds5, y_test))"
   ]
  },
  {
   "cell_type": "code",
   "execution_count": 55,
   "metadata": {},
   "outputs": [
    {
     "data": {
      "text/html": [
       "<div>\n",
       "<style scoped>\n",
       "    .dataframe tbody tr th:only-of-type {\n",
       "        vertical-align: middle;\n",
       "    }\n",
       "\n",
       "    .dataframe tbody tr th {\n",
       "        vertical-align: top;\n",
       "    }\n",
       "\n",
       "    .dataframe thead th {\n",
       "        text-align: right;\n",
       "    }\n",
       "</style>\n",
       "<table border=\"1\" class=\"dataframe\">\n",
       "  <thead>\n",
       "    <tr style=\"text-align: right;\">\n",
       "      <th></th>\n",
       "      <th>Accuracy</th>\n",
       "      <th>Precision</th>\n",
       "      <th>Sensitivity</th>\n",
       "      <th>Specificity</th>\n",
       "    </tr>\n",
       "  </thead>\n",
       "  <tbody>\n",
       "    <tr>\n",
       "      <th>RF Model</th>\n",
       "      <td>0.754531</td>\n",
       "      <td>0.946819</td>\n",
       "      <td>0.767740</td>\n",
       "      <td>0.646137</td>\n",
       "    </tr>\n",
       "    <tr>\n",
       "      <th>LR Model</th>\n",
       "      <td>0.869602</td>\n",
       "      <td>0.971653</td>\n",
       "      <td>0.879367</td>\n",
       "      <td>0.789474</td>\n",
       "    </tr>\n",
       "    <tr>\n",
       "      <th>Multinomial NB Model</th>\n",
       "      <td>0.870575</td>\n",
       "      <td>0.917155</td>\n",
       "      <td>0.939683</td>\n",
       "      <td>0.303471</td>\n",
       "    </tr>\n",
       "    <tr>\n",
       "      <th>RF Model Balanced</th>\n",
       "      <td>0.795889</td>\n",
       "      <td>0.920387</td>\n",
       "      <td>0.844023</td>\n",
       "      <td>0.400896</td>\n",
       "    </tr>\n",
       "    <tr>\n",
       "      <th>LR Model Balanced</th>\n",
       "      <td>0.875563</td>\n",
       "      <td>0.966277</td>\n",
       "      <td>0.891512</td>\n",
       "      <td>0.744681</td>\n",
       "    </tr>\n",
       "  </tbody>\n",
       "</table>\n",
       "</div>"
      ],
      "text/plain": [
       "                      Accuracy  Precision  Sensitivity  Specificity\n",
       "RF Model              0.754531   0.946819     0.767740     0.646137\n",
       "LR Model              0.869602   0.971653     0.879367     0.789474\n",
       "Multinomial NB Model  0.870575   0.917155     0.939683     0.303471\n",
       "RF Model Balanced     0.795889   0.920387     0.844023     0.400896\n",
       "LR Model Balanced     0.875563   0.966277     0.891512     0.744681"
      ]
     },
     "execution_count": 55,
     "metadata": {},
     "output_type": "execute_result"
    }
   ],
   "source": [
    "evaluation_table = evaluation_table.append(pd.Series(evaluation_helper(stats, metrics),name='RF Model Tuned'))\n",
    "evaluation_table.head()"
   ]
  },
  {
   "cell_type": "code",
   "execution_count": 56,
   "metadata": {},
   "outputs": [
    {
     "name": "stdout",
     "output_type": "stream",
     "text": [
      "CPU times: user 2 µs, sys: 1e+03 ns, total: 3 µs\n",
      "Wall time: 26 µs\n",
      "Fitting 4 folds for each of 72 candidates, totalling 288 fits\n"
     ]
    }
   ],
   "source": [
    "# Lets tune RF model which has no imbalance\n",
    "from sklearn.model_selection import GridSearchCV\n",
    "%time\n",
    "\n",
    "classifier_rf = RandomForestClassifier(random_state=42, n_jobs=-1,class_weight=\"balanced\")\n",
    "# Create the parameter grid based on the results of random search \n",
    "params = {\n",
    "    'max_depth': [4,5,10,15],\n",
    "    'min_samples_leaf': [5, 10, 20],\n",
    "    'max_features': [10,20],\n",
    "    'n_estimators': [30, 50,60]\n",
    "}\n",
    "\n",
    "# Instantiate the grid search model\n",
    "grid_search = GridSearchCV(estimator=classifier_rf, param_grid=params, \n",
    "                          cv=4, n_jobs=-1, verbose=1, scoring = \"recall\")\n",
    "grid_search.fit(X_train_smt, y_train_smt)\n",
    "rf2 = grid_search.best_estimator_\n",
    "\n",
    "preds6 = rf2.predict(X_test)"
   ]
  },
  {
   "cell_type": "code",
   "execution_count": 57,
   "metadata": {},
   "outputs": [
    {
     "name": "stdout",
     "output_type": "stream",
     "text": [
      "Random Forest Model accuracy 0.8199732392652962\n",
      "              precision    recall  f1-score   support\n",
      "\n",
      "           0       0.45      0.29      0.35      1387\n",
      "           1       0.87      0.93      0.90      6834\n",
      "\n",
      "    accuracy                           0.82      8221\n",
      "   macro avg       0.66      0.61      0.62      8221\n",
      "weighted avg       0.79      0.82      0.80      8221\n",
      "\n",
      "[[ 400  987]\n",
      " [ 493 6341]]\n"
     ]
    }
   ],
   "source": [
    "print(\"Random Forest Model accuracy\", accuracy_score(preds6, y_test))\n",
    "print(classification_report(preds6, y_test))\n",
    "print(confusion_matrix(preds6, y_test))"
   ]
  },
  {
   "cell_type": "code",
   "execution_count": 58,
   "metadata": {},
   "outputs": [
    {
     "data": {
      "text/html": [
       "<div>\n",
       "<style scoped>\n",
       "    .dataframe tbody tr th:only-of-type {\n",
       "        vertical-align: middle;\n",
       "    }\n",
       "\n",
       "    .dataframe tbody tr th {\n",
       "        vertical-align: top;\n",
       "    }\n",
       "\n",
       "    .dataframe thead th {\n",
       "        text-align: right;\n",
       "    }\n",
       "</style>\n",
       "<table border=\"1\" class=\"dataframe\">\n",
       "  <thead>\n",
       "    <tr style=\"text-align: right;\">\n",
       "      <th></th>\n",
       "      <th>Accuracy</th>\n",
       "      <th>Precision</th>\n",
       "      <th>Sensitivity</th>\n",
       "      <th>Specificity</th>\n",
       "    </tr>\n",
       "  </thead>\n",
       "  <tbody>\n",
       "    <tr>\n",
       "      <th>RF Model</th>\n",
       "      <td>0.754531</td>\n",
       "      <td>0.946819</td>\n",
       "      <td>0.767740</td>\n",
       "      <td>0.646137</td>\n",
       "    </tr>\n",
       "    <tr>\n",
       "      <th>LR Model</th>\n",
       "      <td>0.869602</td>\n",
       "      <td>0.971653</td>\n",
       "      <td>0.879367</td>\n",
       "      <td>0.789474</td>\n",
       "    </tr>\n",
       "    <tr>\n",
       "      <th>Multinomial NB Model</th>\n",
       "      <td>0.870575</td>\n",
       "      <td>0.917155</td>\n",
       "      <td>0.939683</td>\n",
       "      <td>0.303471</td>\n",
       "    </tr>\n",
       "    <tr>\n",
       "      <th>RF Model Balanced</th>\n",
       "      <td>0.795889</td>\n",
       "      <td>0.920387</td>\n",
       "      <td>0.844023</td>\n",
       "      <td>0.400896</td>\n",
       "    </tr>\n",
       "    <tr>\n",
       "      <th>LR Model Balanced</th>\n",
       "      <td>0.875563</td>\n",
       "      <td>0.966277</td>\n",
       "      <td>0.891512</td>\n",
       "      <td>0.744681</td>\n",
       "    </tr>\n",
       "    <tr>\n",
       "      <th>Multinomial NB Model Balanced</th>\n",
       "      <td>0.803674</td>\n",
       "      <td>0.926291</td>\n",
       "      <td>0.847162</td>\n",
       "      <td>0.446809</td>\n",
       "    </tr>\n",
       "    <tr>\n",
       "      <th>RF Model Tuned</th>\n",
       "      <td>0.803674</td>\n",
       "      <td>0.926291</td>\n",
       "      <td>0.847162</td>\n",
       "      <td>0.446809</td>\n",
       "    </tr>\n",
       "    <tr>\n",
       "      <th>RF Model Tuned Balanced</th>\n",
       "      <td>0.803674</td>\n",
       "      <td>0.926291</td>\n",
       "      <td>0.847162</td>\n",
       "      <td>0.446809</td>\n",
       "    </tr>\n",
       "  </tbody>\n",
       "</table>\n",
       "</div>"
      ],
      "text/plain": [
       "                               Accuracy  Precision  Sensitivity  Specificity\n",
       "RF Model                       0.754531   0.946819     0.767740     0.646137\n",
       "LR Model                       0.869602   0.971653     0.879367     0.789474\n",
       "Multinomial NB Model           0.870575   0.917155     0.939683     0.303471\n",
       "RF Model Balanced              0.795889   0.920387     0.844023     0.400896\n",
       "LR Model Balanced              0.875563   0.966277     0.891512     0.744681\n",
       "Multinomial NB Model Balanced  0.803674   0.926291     0.847162     0.446809\n",
       "RF Model Tuned                 0.803674   0.926291     0.847162     0.446809\n",
       "RF Model Tuned Balanced        0.803674   0.926291     0.847162     0.446809"
      ]
     },
     "execution_count": 58,
     "metadata": {},
     "output_type": "execute_result"
    }
   ],
   "source": [
    "evaluation_table = evaluation_table.append(pd.Series(evaluation_helper(stats, metrics),name='RF Model Tuned Balanced'))\n",
    "evaluation_table.head(20)"
   ]
  },
  {
   "cell_type": "code",
   "execution_count": null,
   "metadata": {},
   "outputs": [],
   "source": []
  },
  {
   "cell_type": "code",
   "execution_count": 59,
   "metadata": {},
   "outputs": [],
   "source": [
    "# From the evaluation table we can select the best model as LR Model Balanced\n",
    "# Handling imbalance in data and applying logistic regression\n",
    "# Has accuracy of 87.27%"
   ]
  },
  {
   "cell_type": "code",
   "execution_count": 64,
   "metadata": {},
   "outputs": [],
   "source": [
    "# Pickling the best model\n",
    "# This will be useful for predictions of fresh data\n",
    "\n",
    "import pickle\n",
    "\n",
    "# We will save the the vectorizer and the logistic regression model\n",
    "# This will be useful for us when we want to predict\n",
    "# We will also dump the cleaned dataset\n",
    "\n",
    "pickle.dump(tfidfconverter, open('./pickle/vectorizer.pkl','wb'))\n",
    "\n",
    "pickle.dump(logit_bal, open('./pickle/model.pkl','wb'))\n",
    "\n",
    "df.to_pickle('./data/cleaned_text_data', compression='zip')"
   ]
  },
  {
   "cell_type": "code",
   "execution_count": null,
   "metadata": {},
   "outputs": [],
   "source": []
  },
  {
   "cell_type": "code",
   "execution_count": null,
   "metadata": {},
   "outputs": [],
   "source": []
  }
 ],
 "metadata": {
  "kernelspec": {
   "display_name": "Python 3",
   "language": "python",
   "name": "python3"
  },
  "language_info": {
   "codemirror_mode": {
    "name": "ipython",
    "version": 3
   },
   "file_extension": ".py",
   "mimetype": "text/x-python",
   "name": "python",
   "nbconvert_exporter": "python",
   "pygments_lexer": "ipython3",
   "version": "3.7.6"
  }
 },
 "nbformat": 4,
 "nbformat_minor": 4
}

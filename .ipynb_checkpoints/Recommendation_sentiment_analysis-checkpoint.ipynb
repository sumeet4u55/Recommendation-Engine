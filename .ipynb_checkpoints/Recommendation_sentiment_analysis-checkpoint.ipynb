{
 "cells": [
  {
   "cell_type": "code",
   "execution_count": 3,
   "metadata": {},
   "outputs": [],
   "source": [
    "import numpy as np\n",
    "import pandas as pd\n",
    "import seaborn as sns\n",
    "import matplotlib.pyplot as plt\n",
    "%matplotlib inline\n",
    "from sklearn.model_selection import train_test_split\n",
    "import warnings\n",
    "warnings.filterwarnings(\"ignore\")"
   ]
  },
  {
   "cell_type": "code",
   "execution_count": 5,
   "metadata": {},
   "outputs": [
    {
     "data": {
      "text/html": [
       "<div>\n",
       "<style scoped>\n",
       "    .dataframe tbody tr th:only-of-type {\n",
       "        vertical-align: middle;\n",
       "    }\n",
       "\n",
       "    .dataframe tbody tr th {\n",
       "        vertical-align: top;\n",
       "    }\n",
       "\n",
       "    .dataframe thead th {\n",
       "        text-align: right;\n",
       "    }\n",
       "</style>\n",
       "<table border=\"1\" class=\"dataframe\">\n",
       "  <thead>\n",
       "    <tr style=\"text-align: right;\">\n",
       "      <th></th>\n",
       "      <th>id</th>\n",
       "      <th>brand</th>\n",
       "      <th>categories</th>\n",
       "      <th>manufacturer</th>\n",
       "      <th>name</th>\n",
       "      <th>reviews_date</th>\n",
       "      <th>reviews_didPurchase</th>\n",
       "      <th>reviews_doRecommend</th>\n",
       "      <th>reviews_rating</th>\n",
       "      <th>reviews_text</th>\n",
       "      <th>reviews_title</th>\n",
       "      <th>reviews_username</th>\n",
       "      <th>user_sentiment</th>\n",
       "    </tr>\n",
       "  </thead>\n",
       "  <tbody>\n",
       "    <tr>\n",
       "      <th>0</th>\n",
       "      <td>AV13O1A8GV-KLJ3akUyj</td>\n",
       "      <td>Universal Music</td>\n",
       "      <td>Movies, Music &amp; Books,Music,R&amp;b,Movies &amp; TV,Mo...</td>\n",
       "      <td>Universal Music Group / Cash Money</td>\n",
       "      <td>Pink Friday: Roman Reloaded Re-Up (w/dvd)</td>\n",
       "      <td>2012-11-30 06:21:45+00:00</td>\n",
       "      <td>Null</td>\n",
       "      <td>NaN</td>\n",
       "      <td>5</td>\n",
       "      <td>i love this album. it's very good. more to the...</td>\n",
       "      <td>Just Awesome</td>\n",
       "      <td>joshua</td>\n",
       "      <td>Positive</td>\n",
       "    </tr>\n",
       "    <tr>\n",
       "      <th>1</th>\n",
       "      <td>AV14LG0R-jtxr-f38QfS</td>\n",
       "      <td>Lundberg</td>\n",
       "      <td>Food,Packaged Foods,Snacks,Crackers,Snacks, Co...</td>\n",
       "      <td>Lundberg</td>\n",
       "      <td>Lundberg Organic Cinnamon Toast Rice Cakes</td>\n",
       "      <td>2017-07-09 00:00:00+00:00</td>\n",
       "      <td>True</td>\n",
       "      <td>NaN</td>\n",
       "      <td>5</td>\n",
       "      <td>Good flavor. This review was collected as part...</td>\n",
       "      <td>Good</td>\n",
       "      <td>dorothy w</td>\n",
       "      <td>Positive</td>\n",
       "    </tr>\n",
       "    <tr>\n",
       "      <th>3</th>\n",
       "      <td>AV16khLE-jtxr-f38VFn</td>\n",
       "      <td>K-Y</td>\n",
       "      <td>Personal Care,Medicine Cabinet,Lubricant/Sperm...</td>\n",
       "      <td>K-Y</td>\n",
       "      <td>K-Y Love Sensuality Pleasure Gel</td>\n",
       "      <td>2016-01-06 00:00:00+00:00</td>\n",
       "      <td>False</td>\n",
       "      <td>False</td>\n",
       "      <td>1</td>\n",
       "      <td>I read through the reviews on here before look...</td>\n",
       "      <td>Disappointed</td>\n",
       "      <td>rebecca</td>\n",
       "      <td>Negative</td>\n",
       "    </tr>\n",
       "    <tr>\n",
       "      <th>4</th>\n",
       "      <td>AV16khLE-jtxr-f38VFn</td>\n",
       "      <td>K-Y</td>\n",
       "      <td>Personal Care,Medicine Cabinet,Lubricant/Sperm...</td>\n",
       "      <td>K-Y</td>\n",
       "      <td>K-Y Love Sensuality Pleasure Gel</td>\n",
       "      <td>2016-12-21 00:00:00+00:00</td>\n",
       "      <td>False</td>\n",
       "      <td>False</td>\n",
       "      <td>1</td>\n",
       "      <td>My husband bought this gel for us. The gel cau...</td>\n",
       "      <td>Irritation</td>\n",
       "      <td>walker557</td>\n",
       "      <td>Negative</td>\n",
       "    </tr>\n",
       "    <tr>\n",
       "      <th>5</th>\n",
       "      <td>AV16khLE-jtxr-f38VFn</td>\n",
       "      <td>K-Y</td>\n",
       "      <td>Personal Care,Medicine Cabinet,Lubricant/Sperm...</td>\n",
       "      <td>K-Y</td>\n",
       "      <td>K-Y Love Sensuality Pleasure Gel</td>\n",
       "      <td>2016-04-20 00:00:00+00:00</td>\n",
       "      <td>False</td>\n",
       "      <td>False</td>\n",
       "      <td>1</td>\n",
       "      <td>My boyfriend and I bought this to spice things...</td>\n",
       "      <td>Not worth it</td>\n",
       "      <td>samantha</td>\n",
       "      <td>Negative</td>\n",
       "    </tr>\n",
       "  </tbody>\n",
       "</table>\n",
       "</div>"
      ],
      "text/plain": [
       "                     id            brand  \\\n",
       "0  AV13O1A8GV-KLJ3akUyj  Universal Music   \n",
       "1  AV14LG0R-jtxr-f38QfS         Lundberg   \n",
       "3  AV16khLE-jtxr-f38VFn              K-Y   \n",
       "4  AV16khLE-jtxr-f38VFn              K-Y   \n",
       "5  AV16khLE-jtxr-f38VFn              K-Y   \n",
       "\n",
       "                                          categories  \\\n",
       "0  Movies, Music & Books,Music,R&b,Movies & TV,Mo...   \n",
       "1  Food,Packaged Foods,Snacks,Crackers,Snacks, Co...   \n",
       "3  Personal Care,Medicine Cabinet,Lubricant/Sperm...   \n",
       "4  Personal Care,Medicine Cabinet,Lubricant/Sperm...   \n",
       "5  Personal Care,Medicine Cabinet,Lubricant/Sperm...   \n",
       "\n",
       "                         manufacturer  \\\n",
       "0  Universal Music Group / Cash Money   \n",
       "1                            Lundberg   \n",
       "3                                 K-Y   \n",
       "4                                 K-Y   \n",
       "5                                 K-Y   \n",
       "\n",
       "                                         name               reviews_date  \\\n",
       "0   Pink Friday: Roman Reloaded Re-Up (w/dvd)  2012-11-30 06:21:45+00:00   \n",
       "1  Lundberg Organic Cinnamon Toast Rice Cakes  2017-07-09 00:00:00+00:00   \n",
       "3            K-Y Love Sensuality Pleasure Gel  2016-01-06 00:00:00+00:00   \n",
       "4            K-Y Love Sensuality Pleasure Gel  2016-12-21 00:00:00+00:00   \n",
       "5            K-Y Love Sensuality Pleasure Gel  2016-04-20 00:00:00+00:00   \n",
       "\n",
       "  reviews_didPurchase reviews_doRecommend  reviews_rating  \\\n",
       "0                Null                 NaN               5   \n",
       "1                True                 NaN               5   \n",
       "3               False               False               1   \n",
       "4               False               False               1   \n",
       "5               False               False               1   \n",
       "\n",
       "                                        reviews_text reviews_title  \\\n",
       "0  i love this album. it's very good. more to the...  Just Awesome   \n",
       "1  Good flavor. This review was collected as part...          Good   \n",
       "3  I read through the reviews on here before look...  Disappointed   \n",
       "4  My husband bought this gel for us. The gel cau...    Irritation   \n",
       "5  My boyfriend and I bought this to spice things...  Not worth it   \n",
       "\n",
       "  reviews_username user_sentiment  \n",
       "0           joshua       Positive  \n",
       "1        dorothy w       Positive  \n",
       "3          rebecca       Negative  \n",
       "4        walker557       Negative  \n",
       "5         samantha       Negative  "
      ]
     },
     "execution_count": 5,
     "metadata": {},
     "output_type": "execute_result"
    }
   ],
   "source": [
    "# import the cleaned data\n",
    "df = pd.read_csv('./data/finalData.csv', index_col=0)\n",
    "df.head()"
   ]
  },
  {
   "cell_type": "code",
   "execution_count": 7,
   "metadata": {},
   "outputs": [
    {
     "data": {
      "text/html": [
       "<div>\n",
       "<style scoped>\n",
       "    .dataframe tbody tr th:only-of-type {\n",
       "        vertical-align: middle;\n",
       "    }\n",
       "\n",
       "    .dataframe tbody tr th {\n",
       "        vertical-align: top;\n",
       "    }\n",
       "\n",
       "    .dataframe thead th {\n",
       "        text-align: right;\n",
       "    }\n",
       "</style>\n",
       "<table border=\"1\" class=\"dataframe\">\n",
       "  <thead>\n",
       "    <tr style=\"text-align: right;\">\n",
       "      <th></th>\n",
       "      <th>reviews_text</th>\n",
       "      <th>reviews_title</th>\n",
       "      <th>user_sentiment</th>\n",
       "    </tr>\n",
       "  </thead>\n",
       "  <tbody>\n",
       "    <tr>\n",
       "      <th>0</th>\n",
       "      <td>i love this album. it's very good. more to the...</td>\n",
       "      <td>Just Awesome</td>\n",
       "      <td>Positive</td>\n",
       "    </tr>\n",
       "    <tr>\n",
       "      <th>1</th>\n",
       "      <td>Good flavor. This review was collected as part...</td>\n",
       "      <td>Good</td>\n",
       "      <td>Positive</td>\n",
       "    </tr>\n",
       "    <tr>\n",
       "      <th>3</th>\n",
       "      <td>I read through the reviews on here before look...</td>\n",
       "      <td>Disappointed</td>\n",
       "      <td>Negative</td>\n",
       "    </tr>\n",
       "    <tr>\n",
       "      <th>4</th>\n",
       "      <td>My husband bought this gel for us. The gel cau...</td>\n",
       "      <td>Irritation</td>\n",
       "      <td>Negative</td>\n",
       "    </tr>\n",
       "    <tr>\n",
       "      <th>5</th>\n",
       "      <td>My boyfriend and I bought this to spice things...</td>\n",
       "      <td>Not worth it</td>\n",
       "      <td>Negative</td>\n",
       "    </tr>\n",
       "  </tbody>\n",
       "</table>\n",
       "</div>"
      ],
      "text/plain": [
       "                                        reviews_text reviews_title  \\\n",
       "0  i love this album. it's very good. more to the...  Just Awesome   \n",
       "1  Good flavor. This review was collected as part...          Good   \n",
       "3  I read through the reviews on here before look...  Disappointed   \n",
       "4  My husband bought this gel for us. The gel cau...    Irritation   \n",
       "5  My boyfriend and I bought this to spice things...  Not worth it   \n",
       "\n",
       "  user_sentiment  \n",
       "0       Positive  \n",
       "1       Positive  \n",
       "3       Negative  \n",
       "4       Negative  \n",
       "5       Negative  "
      ]
     },
     "execution_count": 7,
     "metadata": {},
     "output_type": "execute_result"
    }
   ],
   "source": [
    "# Since we only need a few columns for text processing we will reduce the data set.\n",
    "df = df[['reviews_text', 'reviews_title', 'user_sentiment']]\n",
    "df.head()"
   ]
  },
  {
   "cell_type": "code",
   "execution_count": 8,
   "metadata": {},
   "outputs": [
    {
     "data": {
      "text/plain": [
       "(27403, 3)"
      ]
     },
     "execution_count": 8,
     "metadata": {},
     "output_type": "execute_result"
    }
   ],
   "source": [
    "df.shape"
   ]
  },
  {
   "cell_type": "markdown",
   "metadata": {},
   "source": [
    "## Text Preprocessing"
   ]
  },
  {
   "cell_type": "markdown",
   "metadata": {},
   "source": [
    "We will follow the below cleaning process,\n",
    "\n",
    "1. Remove punctuations\n",
    "2. Remove special characters\n",
    "3. Stop Words Removal\n",
    "4. Stemming and Lemmatization"
   ]
  },
  {
   "cell_type": "code",
   "execution_count": 9,
   "metadata": {},
   "outputs": [],
   "source": [
    "# Useful functions for text manipulation\n",
    "import nltk\n",
    "from nltk import sent_tokenize, word_tokenize, pos_tag\n",
    "from nltk.tokenize import RegexpTokenizer\n",
    "from nltk.corpus import stopwords\n",
    "\n",
    "import string\n",
    "\n",
    "punc_ext = string.punctuation\n",
    "tokenizer = RegexpTokenizer(r'\\w+')\n",
    "stop_words = set(stopwords.words('english'))\n",
    "\n",
    "\n",
    "def lower_data(col):\n",
    "    lower_col = col.apply(lambda x: x.lower())\n",
    "    return lower_col\n",
    "\n",
    "def remove_punctuation(text):\n",
    "    return text.translate(text.maketrans('', '', punc_ext))\n",
    "\n",
    "def remove_special_characters(col):\n",
    "    no_special_characters = col.replace(r'[^A-Za-z0-9 ]+', '', regex=True)\n",
    "    return no_special_characters\n",
    "\n",
    "def remove_whitespace(col):\n",
    "    # replace more than 1 space with 1 space\n",
    "    merged_spaces = col.apply(lambda x: x.replace(r\"\\s\\s+\",' '))\n",
    "    # delete beginning and trailing spaces\n",
    "    trimmed_spaces = merged_spaces.apply(lambda x: x.strip())\n",
    "    return trimmed_spaces\n",
    "\n",
    "def remove_website_links(col):\n",
    "    no_website_links = col.str.replace(r\"http\\S+\", \"\")\n",
    "    return no_website_links\n",
    "\n",
    "def remove_numbers(col):\n",
    "    removed_numbers = col.apply(lambda x: x.replace(r'\\d+',''))\n",
    "    return removed_numbers\n",
    "\n",
    "def remove_emails(col):\n",
    "    no_emails = col.apply(lambda x: x.replace(r\"\\S*@\\S*\\s?\", \"\"))\n",
    "    return no_emails\n",
    "\n",
    "def tokenize_col(col):\n",
    "    tokenized_col = col.apply(lambda x: tokenizer.tokenize(str(x)))\n",
    "    return tokenized_col\n",
    "\n",
    "def remove_stopwords(text): \n",
    "    words = [w for w in text if w not in stopwords.words('english')]\n",
    "    return words\n",
    "\n"
   ]
  },
  {
   "cell_type": "code",
   "execution_count": null,
   "metadata": {},
   "outputs": [],
   "source": [
    "# lower text\n",
    "df['reviews_text'] = lower_data(df['reviews_text'])\n",
    "df['reviews_title'] = lower_data(df['reviews_title'])\n",
    "\n",
    "# Remove whitespaces\n",
    "df['reviews_text'] = remove_whitespace(df['reviews_text'])\n",
    "df['reviews_title'] = remove_whitespace(df['reviews_title'])\n",
    "\n",
    "# Remove punctuations\n",
    "df['reviews_text'] = df['reviews_text'].apply(lambda line: remove_punctuation(line))\n",
    "df['reviews_title'] = df['reviews_title'].apply(lambda line: remove_punctuation(line))\n",
    "\n",
    "# Remove special characters\n",
    "df['reviews_text'] = remove_special_characters(df['reviews_text'])\n",
    "df['reviews_title'] = remove_special_characters(df['reviews_title'])\n",
    "\n",
    "# Remove website links\n",
    "df['reviews_text'] = remove_website_links(df['reviews_text'])\n",
    "df['reviews_title'] = remove_website_links(df['reviews_title'])\n",
    "\n",
    "# Remove emails\n",
    "df['reviews_text'] = remove_emails(df['reviews_text'])\n",
    "df['reviews_title'] = remove_emails(df['reviews_title'])\n",
    "\n",
    "# Remove numbers\n",
    "df['reviews_text'] = remove_numbers(df['reviews_text'])\n",
    "df['reviews_title'] = remove_numbers(df['reviews_title'])\n",
    "\n"
   ]
  },
  {
   "cell_type": "code",
   "execution_count": 10,
   "metadata": {},
   "outputs": [],
   "source": [
    "from wordcloud import WordCloud, STOPWORDS\n",
    "stopwords = set(STOPWORDS)\n",
    "\n",
    "def show_wordcloud(data, title = None):\n",
    "    wordcloud = WordCloud(\n",
    "        background_color='black',\n",
    "        stopwords=stopwords,\n",
    "        max_words=200,\n",
    "        max_font_size=40, \n",
    "        scale=3,\n",
    "        random_state=1\n",
    ").generate(str(data))\n",
    "\n",
    "    fig = plt.figure(1, figsize=(15, 15))\n",
    "    plt.axis('off')\n",
    "    if title: \n",
    "        fig.suptitle(title, fontsize=20)\n",
    "        fig.subplots_adjust(top=2.3)\n",
    "\n",
    "    plt.imshow(wordcloud)\n",
    "    plt.show()"
   ]
  },
  {
   "cell_type": "code",
   "execution_count": null,
   "metadata": {},
   "outputs": [],
   "source": []
  },
  {
   "cell_type": "markdown",
   "metadata": {},
   "source": [
    "### Visualising the commonly used words in text and title of reviews"
   ]
  },
  {
   "cell_type": "code",
   "execution_count": 11,
   "metadata": {},
   "outputs": [
    {
     "data": {
      "image/png": "[encoded data removed]",
      "text/plain": [
       "<Figure size 1080x1080 with 1 Axes>"
      ]
     },
     "metadata": {
      "needs_background": "light"
     },
     "output_type": "display_data"
    }
   ],
   "source": [
    "show_wordcloud(df['reviews_text'])"
   ]
  },
  {
   "cell_type": "code",
   "execution_count": 12,
   "metadata": {},
   "outputs": [
    {
     "data": {
      "image/png": "[encoded data removed]",
      "text/plain": [
       "<Figure size 1080x1080 with 1 Axes>"
      ]
     },
     "metadata": {
      "needs_background": "light"
     },
     "output_type": "display_data"
    }
   ],
   "source": [
    "show_wordcloud(df['reviews_title'])"
   ]
  },
  {
   "cell_type": "code",
   "execution_count": null,
   "metadata": {},
   "outputs": [],
   "source": []
  },
  {
   "cell_type": "code",
   "execution_count": 13,
   "metadata": {},
   "outputs": [],
   "source": [
    "df['Independent_Var'] = df['reviews_text'] + ' ' + df['reviews_title']"
   ]
  },
  {
   "cell_type": "code",
   "execution_count": 14,
   "metadata": {},
   "outputs": [
    {
     "data": {
      "text/plain": [
       "0    i love this album. it's very good. more to the...\n",
       "1    Good flavor. This review was collected as part...\n",
       "3    I read through the reviews on here before look...\n",
       "4    My husband bought this gel for us. The gel cau...\n",
       "5    My boyfriend and I bought this to spice things...\n",
       "Name: Independent_Var, dtype: object"
      ]
     },
     "execution_count": 14,
     "metadata": {},
     "output_type": "execute_result"
    }
   ],
   "source": [
    "df['Independent_Var'].head()"
   ]
  },
  {
   "cell_type": "code",
   "execution_count": null,
   "metadata": {},
   "outputs": [],
   "source": []
  },
  {
   "cell_type": "code",
   "execution_count": 15,
   "metadata": {},
   "outputs": [],
   "source": [
    "# The goal of both stemming and lemmatization is to \n",
    "# reduce inflectional forms and sometimes derivationally related forms of a word to a common base form.\n",
    "\n",
    "# Adopting Lemmatization gives an added advantage of getting meaningful and accurate\n",
    "# root words clubbed from different forms.\n",
    "\n",
    "# Hence we will use Lemmatization in our project to retain the meaning.\n",
    "from nltk.stem import WordNetLemmatizer, PorterStemmer\n",
    "from nltk.tokenize import word_tokenize\n",
    "from nltk.corpus import stopwords\n",
    "\n",
    "lemmatizer = WordNetLemmatizer()\n",
    "stemmer = PorterStemmer()\n",
    "\n",
    "def word_lemmatizer(text):\n",
    "    \n",
    "    words = word_tokenize(text)\n",
    "    \n",
    "    words = [word for word in words if word not in stopwords.words(\"english\")]\n",
    "\n",
    "    lem_text = [lemmatizer.lemmatize(i) for i in words]\n",
    "    lem_text = \" \".join(lem_text)\n",
    "    \n",
    "    return lem_text\n",
    "\n",
    "df['Independent_Var'] = [ word_lemmatizer(i) for i in df['Independent_Var']]"
   ]
  },
  {
   "cell_type": "code",
   "execution_count": 16,
   "metadata": {},
   "outputs": [
    {
     "data": {
      "text/plain": [
       "0    love album . 's good . hip hop side current po...\n",
       "1    Good flavor . This review collected part promo...\n",
       "3    I read review looking buying one couple lubric...\n",
       "4    My husband bought gel u . The gel caused irrit...\n",
       "5    My boyfriend I bought spice thing bedroom high...\n",
       "Name: Independent_Var, dtype: object"
      ]
     },
     "execution_count": 16,
     "metadata": {},
     "output_type": "execute_result"
    }
   ],
   "source": [
    "df['Independent_Var'].head()"
   ]
  },
  {
   "cell_type": "code",
   "execution_count": null,
   "metadata": {},
   "outputs": [],
   "source": []
  },
  {
   "cell_type": "code",
   "execution_count": 17,
   "metadata": {},
   "outputs": [],
   "source": [
    "# For user sentiments, converting the true value to 1 and rest 0, and this is out target variable\n",
    "df['user_sentiment'] = np.where((df['user_sentiment'] == 'Positive'), 1, 0)"
   ]
  },
  {
   "cell_type": "code",
   "execution_count": 19,
   "metadata": {},
   "outputs": [],
   "source": [
    "X = df['Independent_Var']\n",
    "y = df['user_sentiment']"
   ]
  },
  {
   "cell_type": "code",
   "execution_count": 20,
   "metadata": {},
   "outputs": [],
   "source": [
    "X_train, X_test, y_train, y_test = train_test_split(X, y, test_size=0.3, random_state=0)\n",
    "\n",
    "train_text_list=X_train.tolist()\n",
    "test_text_list=X_test.tolist()"
   ]
  },
  {
   "cell_type": "code",
   "execution_count": 26,
   "metadata": {},
   "outputs": [
    {
     "name": "stdout",
     "output_type": "stream",
     "text": [
      "X_train (19182, 4087)\n",
      "y_train (19182,)\n",
      "X_test (8221, 4087)\n",
      "y_test (8221,)\n"
     ]
    }
   ],
   "source": [
    "print('X_train', X_train.shape)\n",
    "print('y_train', y_train.shape)\n",
    "print('X_test', X_test.shape)\n",
    "print('y_test', y_test.shape)"
   ]
  },
  {
   "cell_type": "markdown",
   "metadata": {},
   "source": [
    "### TF-IDF model"
   ]
  },
  {
   "cell_type": "code",
   "execution_count": 21,
   "metadata": {},
   "outputs": [],
   "source": [
    "# For Model Building\n",
    "\n",
    "from sklearn.feature_extraction.text import TfidfVectorizer\n",
    "\n",
    "tfidfconverter = TfidfVectorizer(max_features=5000, min_df=5, max_df=0.7, stop_words=stopwords.words('english'))\n",
    "\n",
    "X_train = tfidfconverter.fit_transform(train_text_list).toarray()\n",
    "X_test = tfidfconverter.transform(test_text_list).toarray()"
   ]
  },
  {
   "cell_type": "markdown",
   "metadata": {},
   "source": [
    "### Count Vectorizer"
   ]
  },
  {
   "cell_type": "code",
   "execution_count": 23,
   "metadata": {},
   "outputs": [],
   "source": [
    "# For Naive Bayes model Building\n",
    "\n",
    "from sklearn.feature_extraction.text import CountVectorizer\n",
    "\n",
    "vect = CountVectorizer(stop_words='english',max_features=5000)\n",
    "vect.fit(train_text_list)\n",
    "\n",
    "X_train_nb = vect.transform(train_text_list)\n",
    "X_test_nb =vect.transform(test_text_list)\n"
   ]
  },
  {
   "cell_type": "code",
   "execution_count": null,
   "metadata": {},
   "outputs": [],
   "source": []
  },
  {
   "cell_type": "markdown",
   "metadata": {},
   "source": [
    "## Model Building"
   ]
  },
  {
   "cell_type": "code",
   "execution_count": 33,
   "metadata": {},
   "outputs": [],
   "source": [
    "from sklearn.metrics import f1_score, accuracy_score, confusion_matrix, recall_score\n",
    "from sklearn.metrics import confusion_matrix"
   ]
  },
  {
   "cell_type": "code",
   "execution_count": 62,
   "metadata": {},
   "outputs": [],
   "source": [
    "## Collects all the models evaluation for comparison\n",
    "evaluation_table = pd.DataFrame()"
   ]
  },
  {
   "cell_type": "code",
   "execution_count": 51,
   "metadata": {},
   "outputs": [],
   "source": [
    "# Helper function for evaluation\n",
    "\n",
    "def evaluation_helper(confusion, stats):\n",
    "    TP = confusion[1,1] # true positive \n",
    "    TN = confusion[0,0] # true negatives\n",
    "    FP = confusion[0,1] # false positives\n",
    "    FN = confusion[1,0] # false negatives \n",
    "    stats['Sensitivity'] = TP / float(TP+FN)\n",
    "    stats['Precision'] = TP / float(TP + FP)\n",
    "    stats['Specificity'] = TN / float(TN+FP)\n",
    "    return stats"
   ]
  },
  {
   "cell_type": "code",
   "execution_count": null,
   "metadata": {},
   "outputs": [],
   "source": []
  },
  {
   "cell_type": "code",
   "execution_count": 63,
   "metadata": {},
   "outputs": [],
   "source": [
    "# Model 1: Random Forest Classifier\n",
    "\n",
    "from sklearn.ensemble import RandomForestClassifier\n",
    "from sklearn.metrics import confusion_matrix, classification_report\n",
    "\n",
    "classifier = RandomForestClassifier(class_weight='balanced', max_depth=4, max_features=10,\n",
    "                                    n_estimators=100, random_state=42, n_jobs=-1)\n",
    "classifier.fit(X_train, y_train)\n",
    "preds1 = classifier.predict(X_test)"
   ]
  },
  {
   "cell_type": "code",
   "execution_count": 64,
   "metadata": {},
   "outputs": [
    {
     "name": "stdout",
     "output_type": "stream",
     "text": [
      "Random Forest Model accuracy 0.7460162997202286\n",
      "              precision    recall  f1-score   support\n",
      "\n",
      "           0       0.58      0.23      0.33      2223\n",
      "           1       0.77      0.94      0.84      5998\n",
      "\n",
      "    accuracy                           0.75      8221\n",
      "   macro avg       0.67      0.58      0.59      8221\n",
      "weighted avg       0.72      0.75      0.70      8221\n",
      "\n",
      "[[ 514 1709]\n",
      " [ 379 5619]]\n"
     ]
    }
   ],
   "source": [
    "print(\"Random Forest Model accuracy\", accuracy_score(preds1, y_test))\n",
    "print(classification_report(preds1, y_test))\n",
    "print(confusion_matrix(preds1, y_test))"
   ]
  },
  {
   "cell_type": "code",
   "execution_count": 65,
   "metadata": {},
   "outputs": [],
   "source": [
    "metrics = dict()\n",
    "metrics['Accuracy'] = accuracy_score(y_test, preds1)\n",
    "stats = confusion_matrix(y_test, preds1)"
   ]
  },
  {
   "cell_type": "code",
   "execution_count": 66,
   "metadata": {},
   "outputs": [
    {
     "data": {
      "text/html": [
       "<div>\n",
       "<style scoped>\n",
       "    .dataframe tbody tr th:only-of-type {\n",
       "        vertical-align: middle;\n",
       "    }\n",
       "\n",
       "    .dataframe tbody tr th {\n",
       "        vertical-align: top;\n",
       "    }\n",
       "\n",
       "    .dataframe thead th {\n",
       "        text-align: right;\n",
       "    }\n",
       "</style>\n",
       "<table border=\"1\" class=\"dataframe\">\n",
       "  <thead>\n",
       "    <tr style=\"text-align: right;\">\n",
       "      <th></th>\n",
       "      <th>Accuracy</th>\n",
       "      <th>Precision</th>\n",
       "      <th>Sensitivity</th>\n",
       "      <th>Specificity</th>\n",
       "    </tr>\n",
       "  </thead>\n",
       "  <tbody>\n",
       "    <tr>\n",
       "      <th>RF Model</th>\n",
       "      <td>0.746016</td>\n",
       "      <td>0.936812</td>\n",
       "      <td>0.766785</td>\n",
       "      <td>0.575588</td>\n",
       "    </tr>\n",
       "  </tbody>\n",
       "</table>\n",
       "</div>"
      ],
      "text/plain": [
       "          Accuracy  Precision  Sensitivity  Specificity\n",
       "RF Model  0.746016   0.936812     0.766785     0.575588"
      ]
     },
     "execution_count": 66,
     "metadata": {},
     "output_type": "execute_result"
    }
   ],
   "source": [
    "evaluation_table = evaluation_table.append(pd.Series(evaluation_helper(stats, metrics),name='RF Model'))\n",
    "evaluation_table.head()"
   ]
  },
  {
   "cell_type": "code",
   "execution_count": null,
   "metadata": {},
   "outputs": [],
   "source": [
    "# Model 2 with Xgboost\n",
    "\n",
    "# import xgboost as xgb\n",
    "\n",
    "# # xgb = xgb.XGBClassifier(n_jobs=1)\n",
    "# # xgb.fit(X_train, y_train)\n",
    "# # preds2 = xgb.predict(X_test)\n",
    "\n",
    "# XGBClassifier = xgb.XGBClassifier\n",
    "\n",
    "# # fit model no training data\n",
    "# model = XGBClassifier()\n",
    "# model.fit(X_train, y_train)\n",
    "\n",
    "\n",
    "# # make predictions for test data\n",
    "# y_pred = model.predict(X_test)\n",
    "# predictions = [round(value) for value in y_pred]\n"
   ]
  },
  {
   "cell_type": "code",
   "execution_count": null,
   "metadata": {},
   "outputs": [],
   "source": [
    "# # evaluate predictions\n",
    "# print(\"XGBoost Model accuracy\", accuracy_score(y_test, predictions))\n",
    "# print(classification_report(predictions, y_test))\n",
    "# print(confusion_matrix(predictions, y_test))"
   ]
  },
  {
   "cell_type": "code",
   "execution_count": null,
   "metadata": {},
   "outputs": [],
   "source": []
  },
  {
   "cell_type": "code",
   "execution_count": 67,
   "metadata": {},
   "outputs": [],
   "source": [
    "# Model3: Logistic Regression\n",
    "\n",
    "from sklearn.linear_model import LogisticRegression\n",
    "from sklearn.model_selection import KFold, cross_val_score\n",
    "\n",
    "logit = LogisticRegression(random_state=42, C = 3.5, class_weight= 'balanced')\n",
    "logit.fit(X_train, y_train)\n",
    "preds3 = logit.predict(X_test)"
   ]
  },
  {
   "cell_type": "code",
   "execution_count": 68,
   "metadata": {},
   "outputs": [
    {
     "name": "stdout",
     "output_type": "stream",
     "text": [
      "Logistic Regression accuracy 0.8653448485585695\n",
      "              precision    recall  f1-score   support\n",
      "\n",
      "           0       0.78      0.43      0.56      1604\n",
      "           1       0.88      0.97      0.92      6617\n",
      "\n",
      "    accuracy                           0.87      8221\n",
      "   macro avg       0.83      0.70      0.74      8221\n",
      "weighted avg       0.86      0.87      0.85      8221\n",
      "\n",
      "[[ 695  909]\n",
      " [ 198 6419]]\n"
     ]
    }
   ],
   "source": [
    "print(\"Logistic Regression accuracy\", accuracy_score(preds3, y_test))\n",
    "print(classification_report(preds3, y_test))\n",
    "print(confusion_matrix(preds3, y_test))"
   ]
  },
  {
   "cell_type": "code",
   "execution_count": 69,
   "metadata": {},
   "outputs": [],
   "source": [
    "metrics = dict()\n",
    "metrics['Accuracy'] = accuracy_score(y_test, preds3)\n",
    "stats = confusion_matrix(y_test, preds3)"
   ]
  },
  {
   "cell_type": "code",
   "execution_count": 70,
   "metadata": {},
   "outputs": [
    {
     "data": {
      "text/html": [
       "<div>\n",
       "<style scoped>\n",
       "    .dataframe tbody tr th:only-of-type {\n",
       "        vertical-align: middle;\n",
       "    }\n",
       "\n",
       "    .dataframe tbody tr th {\n",
       "        vertical-align: top;\n",
       "    }\n",
       "\n",
       "    .dataframe thead th {\n",
       "        text-align: right;\n",
       "    }\n",
       "</style>\n",
       "<table border=\"1\" class=\"dataframe\">\n",
       "  <thead>\n",
       "    <tr style=\"text-align: right;\">\n",
       "      <th></th>\n",
       "      <th>Accuracy</th>\n",
       "      <th>Precision</th>\n",
       "      <th>Sensitivity</th>\n",
       "      <th>Specificity</th>\n",
       "    </tr>\n",
       "  </thead>\n",
       "  <tbody>\n",
       "    <tr>\n",
       "      <th>RF Model</th>\n",
       "      <td>0.746016</td>\n",
       "      <td>0.936812</td>\n",
       "      <td>0.766785</td>\n",
       "      <td>0.575588</td>\n",
       "    </tr>\n",
       "    <tr>\n",
       "      <th>LR Model</th>\n",
       "      <td>0.865345</td>\n",
       "      <td>0.970077</td>\n",
       "      <td>0.875955</td>\n",
       "      <td>0.778275</td>\n",
       "    </tr>\n",
       "  </tbody>\n",
       "</table>\n",
       "</div>"
      ],
      "text/plain": [
       "          Accuracy  Precision  Sensitivity  Specificity\n",
       "RF Model  0.746016   0.936812     0.766785     0.575588\n",
       "LR Model  0.865345   0.970077     0.875955     0.778275"
      ]
     },
     "execution_count": 70,
     "metadata": {},
     "output_type": "execute_result"
    }
   ],
   "source": [
    "evaluation_table = evaluation_table.append(pd.Series(evaluation_helper(stats, metrics),name='LR Model'))\n",
    "evaluation_table.head()"
   ]
  },
  {
   "cell_type": "code",
   "execution_count": null,
   "metadata": {},
   "outputs": [],
   "source": []
  },
  {
   "cell_type": "code",
   "execution_count": 71,
   "metadata": {},
   "outputs": [],
   "source": [
    "# Model4 Multinomial Naive Bayes\n",
    "# We evaluate this based on Count Vector\n",
    "\n",
    "from sklearn.naive_bayes import MultinomialNB\n",
    "m_nb = MultinomialNB()\n",
    "m_nb.fit(X_train_nb, y_train)\n",
    "\n",
    "preds4 = m_nb.predict(X_test_nb)"
   ]
  },
  {
   "cell_type": "code",
   "execution_count": 72,
   "metadata": {},
   "outputs": [
    {
     "name": "stdout",
     "output_type": "stream",
     "text": [
      "Multinomial NB accuracy 0.8702104366865345\n",
      "              precision    recall  f1-score   support\n",
      "\n",
      "           0       0.30      0.38      0.33       704\n",
      "           1       0.94      0.92      0.93      7517\n",
      "\n",
      "    accuracy                           0.87      8221\n",
      "   macro avg       0.62      0.65      0.63      8221\n",
      "weighted avg       0.89      0.87      0.88      8221\n",
      "\n",
      "[[ 265  439]\n",
      " [ 628 6889]]\n"
     ]
    }
   ],
   "source": [
    "print(\"Multinomial NB accuracy\", accuracy_score(preds4, y_test))\n",
    "print(classification_report(preds4, y_test))\n",
    "print(confusion_matrix(preds4, y_test))"
   ]
  },
  {
   "cell_type": "code",
   "execution_count": 73,
   "metadata": {},
   "outputs": [],
   "source": [
    "metrics = dict()\n",
    "metrics['Accuracy'] = accuracy_score(y_test, preds4)\n",
    "stats = confusion_matrix(y_test, preds4)"
   ]
  },
  {
   "cell_type": "code",
   "execution_count": 75,
   "metadata": {},
   "outputs": [
    {
     "data": {
      "text/html": [
       "<div>\n",
       "<style scoped>\n",
       "    .dataframe tbody tr th:only-of-type {\n",
       "        vertical-align: middle;\n",
       "    }\n",
       "\n",
       "    .dataframe tbody tr th {\n",
       "        vertical-align: top;\n",
       "    }\n",
       "\n",
       "    .dataframe thead th {\n",
       "        text-align: right;\n",
       "    }\n",
       "</style>\n",
       "<table border=\"1\" class=\"dataframe\">\n",
       "  <thead>\n",
       "    <tr style=\"text-align: right;\">\n",
       "      <th></th>\n",
       "      <th>Accuracy</th>\n",
       "      <th>Precision</th>\n",
       "      <th>Sensitivity</th>\n",
       "      <th>Specificity</th>\n",
       "    </tr>\n",
       "  </thead>\n",
       "  <tbody>\n",
       "    <tr>\n",
       "      <th>RF Model</th>\n",
       "      <td>0.746016</td>\n",
       "      <td>0.936812</td>\n",
       "      <td>0.766785</td>\n",
       "      <td>0.575588</td>\n",
       "    </tr>\n",
       "    <tr>\n",
       "      <th>LR Model</th>\n",
       "      <td>0.865345</td>\n",
       "      <td>0.970077</td>\n",
       "      <td>0.875955</td>\n",
       "      <td>0.778275</td>\n",
       "    </tr>\n",
       "    <tr>\n",
       "      <th>LR Model</th>\n",
       "      <td>0.870210</td>\n",
       "      <td>0.916456</td>\n",
       "      <td>0.940093</td>\n",
       "      <td>0.296753</td>\n",
       "    </tr>\n",
       "    <tr>\n",
       "      <th>Multinomial NB Model</th>\n",
       "      <td>0.870210</td>\n",
       "      <td>0.916456</td>\n",
       "      <td>0.940093</td>\n",
       "      <td>0.296753</td>\n",
       "    </tr>\n",
       "  </tbody>\n",
       "</table>\n",
       "</div>"
      ],
      "text/plain": [
       "                      Accuracy  Precision  Sensitivity  Specificity\n",
       "RF Model              0.746016   0.936812     0.766785     0.575588\n",
       "LR Model              0.865345   0.970077     0.875955     0.778275\n",
       "LR Model              0.870210   0.916456     0.940093     0.296753\n",
       "Multinomial NB Model  0.870210   0.916456     0.940093     0.296753"
      ]
     },
     "execution_count": 75,
     "metadata": {},
     "output_type": "execute_result"
    }
   ],
   "source": [
    "evaluation_table = evaluation_table.append(pd.Series(evaluation_helper(stats, metrics),name='Multinomial NB Model'))\n",
    "evaluation_table.head()"
   ]
  },
  {
   "cell_type": "code",
   "execution_count": null,
   "metadata": {},
   "outputs": [],
   "source": []
  },
  {
   "cell_type": "code",
   "execution_count": 76,
   "metadata": {},
   "outputs": [
    {
     "data": {
      "text/plain": [
       "1    24372\n",
       "0     3031\n",
       "Name: user_sentiment, dtype: int64"
      ]
     },
     "execution_count": 76,
     "metadata": {},
     "output_type": "execute_result"
    }
   ],
   "source": [
    "# Lets check class imbalance in target variable\n",
    "\n",
    "df['user_sentiment'].value_counts()"
   ]
  },
  {
   "cell_type": "code",
   "execution_count": null,
   "metadata": {},
   "outputs": [],
   "source": [
    "# As there is imbalance in data we will balance the data and build the models again\n",
    "# And based on this find the model that is best for our data.\n",
    "# We will use SMOTE"
   ]
  },
  {
   "cell_type": "code",
   "execution_count": 79,
   "metadata": {},
   "outputs": [
    {
     "name": "stdout",
     "output_type": "stream",
     "text": [
      "Pre SMOTE Counter({1: 17044, 0: 2138})\n",
      "Post Smote Counter({1: 17044, 0: 17044})\n"
     ]
    }
   ],
   "source": [
    "from imblearn.over_sampling import SMOTE\n",
    "from collections import Counter\n",
    "\n",
    "print('Pre SMOTE', Counter(y_train))\n",
    "\n",
    "smt = SMOTE()\n",
    "X_train_smt, y_train_smt = smt.fit_resample(X_train, y_train)\n",
    "\n",
    "print('Post Smote', Counter(y_train_smt))"
   ]
  },
  {
   "cell_type": "code",
   "execution_count": 82,
   "metadata": {},
   "outputs": [
    {
     "name": "stdout",
     "output_type": "stream",
     "text": [
      "Pre SMOTE Counter({1: 17044, 0: 2138})\n",
      "Post Smote Counter({1: 17044, 0: 17044})\n"
     ]
    }
   ],
   "source": [
    "# applying the same for CountVectors\n",
    "\n",
    "print('Pre SMOTE', Counter(y_train))\n",
    "\n",
    "smt = SMOTE()\n",
    "X_train_nbsmt, y_train_nbsmt = smt.fit_resample(X_train_nb, y_train)\n",
    "\n",
    "print('Post Smote', Counter(y_train_nbsmt))"
   ]
  },
  {
   "cell_type": "code",
   "execution_count": null,
   "metadata": {},
   "outputs": [],
   "source": []
  },
  {
   "cell_type": "markdown",
   "metadata": {},
   "source": [
    "### Model Building with Balanced Dataset"
   ]
  },
  {
   "cell_type": "code",
   "execution_count": 84,
   "metadata": {},
   "outputs": [],
   "source": [
    "# Model 1: Random Forest Classifier\n",
    "\n",
    "from sklearn.ensemble import RandomForestClassifier\n",
    "from sklearn.metrics import confusion_matrix, classification_report\n",
    "\n",
    "classifier = RandomForestClassifier(class_weight='balanced', max_depth=4, max_features=10,\n",
    "                                    n_estimators=100, random_state=42, n_jobs=-1)\n",
    "classifier.fit(X_train_smt, y_train_smt)\n",
    "preds1 = classifier.predict(X_test)"
   ]
  },
  {
   "cell_type": "code",
   "execution_count": 85,
   "metadata": {},
   "outputs": [
    {
     "name": "stdout",
     "output_type": "stream",
     "text": [
      "Random Forest Model accuracy 0.7845760856343511\n",
      "              precision    recall  f1-score   support\n",
      "\n",
      "           0       0.35      0.21      0.26      1500\n",
      "           1       0.84      0.91      0.87      6721\n",
      "\n",
      "    accuracy                           0.78      8221\n",
      "   macro avg       0.59      0.56      0.57      8221\n",
      "weighted avg       0.75      0.78      0.76      8221\n",
      "\n",
      "[[ 311 1189]\n",
      " [ 582 6139]]\n"
     ]
    }
   ],
   "source": [
    "print(\"Random Forest Model accuracy\", accuracy_score(preds1, y_test))\n",
    "print(classification_report(preds1, y_test))\n",
    "print(confusion_matrix(preds1, y_test))"
   ]
  },
  {
   "cell_type": "code",
   "execution_count": 86,
   "metadata": {},
   "outputs": [],
   "source": [
    "metrics = dict()\n",
    "metrics['Accuracy'] = accuracy_score(y_test, preds1)\n",
    "stats = confusion_matrix(y_test, preds1)"
   ]
  },
  {
   "cell_type": "code",
   "execution_count": 87,
   "metadata": {},
   "outputs": [
    {
     "data": {
      "text/html": [
       "<div>\n",
       "<style scoped>\n",
       "    .dataframe tbody tr th:only-of-type {\n",
       "        vertical-align: middle;\n",
       "    }\n",
       "\n",
       "    .dataframe tbody tr th {\n",
       "        vertical-align: top;\n",
       "    }\n",
       "\n",
       "    .dataframe thead th {\n",
       "        text-align: right;\n",
       "    }\n",
       "</style>\n",
       "<table border=\"1\" class=\"dataframe\">\n",
       "  <thead>\n",
       "    <tr style=\"text-align: right;\">\n",
       "      <th></th>\n",
       "      <th>Accuracy</th>\n",
       "      <th>Precision</th>\n",
       "      <th>Sensitivity</th>\n",
       "      <th>Specificity</th>\n",
       "    </tr>\n",
       "  </thead>\n",
       "  <tbody>\n",
       "    <tr>\n",
       "      <th>RF Model</th>\n",
       "      <td>0.746016</td>\n",
       "      <td>0.936812</td>\n",
       "      <td>0.766785</td>\n",
       "      <td>0.575588</td>\n",
       "    </tr>\n",
       "    <tr>\n",
       "      <th>LR Model</th>\n",
       "      <td>0.865345</td>\n",
       "      <td>0.970077</td>\n",
       "      <td>0.875955</td>\n",
       "      <td>0.778275</td>\n",
       "    </tr>\n",
       "    <tr>\n",
       "      <th>LR Model</th>\n",
       "      <td>0.870210</td>\n",
       "      <td>0.916456</td>\n",
       "      <td>0.940093</td>\n",
       "      <td>0.296753</td>\n",
       "    </tr>\n",
       "    <tr>\n",
       "      <th>Multinomial NB Model</th>\n",
       "      <td>0.870210</td>\n",
       "      <td>0.916456</td>\n",
       "      <td>0.940093</td>\n",
       "      <td>0.296753</td>\n",
       "    </tr>\n",
       "    <tr>\n",
       "      <th>RF Model Balanced</th>\n",
       "      <td>0.784576</td>\n",
       "      <td>0.913406</td>\n",
       "      <td>0.837746</td>\n",
       "      <td>0.348264</td>\n",
       "    </tr>\n",
       "  </tbody>\n",
       "</table>\n",
       "</div>"
      ],
      "text/plain": [
       "                      Accuracy  Precision  Sensitivity  Specificity\n",
       "RF Model              0.746016   0.936812     0.766785     0.575588\n",
       "LR Model              0.865345   0.970077     0.875955     0.778275\n",
       "LR Model              0.870210   0.916456     0.940093     0.296753\n",
       "Multinomial NB Model  0.870210   0.916456     0.940093     0.296753\n",
       "RF Model Balanced     0.784576   0.913406     0.837746     0.348264"
      ]
     },
     "execution_count": 87,
     "metadata": {},
     "output_type": "execute_result"
    }
   ],
   "source": [
    "evaluation_table = evaluation_table.append(pd.Series(evaluation_helper(stats, metrics),name='RF Model Balanced'))\n",
    "evaluation_table.head()"
   ]
  },
  {
   "cell_type": "code",
   "execution_count": null,
   "metadata": {},
   "outputs": [],
   "source": []
  },
  {
   "cell_type": "code",
   "execution_count": 88,
   "metadata": {},
   "outputs": [],
   "source": [
    "# Model3: Logistic Regression\n",
    "\n",
    "from sklearn.linear_model import LogisticRegression\n",
    "from sklearn.model_selection import KFold, cross_val_score\n",
    "\n",
    "logit = LogisticRegression(random_state=42, C = 3.5, class_weight= 'balanced')\n",
    "logit.fit(X_train_smt, y_train_smt)\n",
    "preds3 = logit.predict(X_test)"
   ]
  },
  {
   "cell_type": "code",
   "execution_count": 93,
   "metadata": {},
   "outputs": [
    {
     "name": "stdout",
     "output_type": "stream",
     "text": [
      "Logistic Regression accuracy 0.8708186352025301\n",
      "              precision    recall  f1-score   support\n",
      "\n",
      "           0       0.73      0.44      0.55      1465\n",
      "           1       0.89      0.96      0.92      6756\n",
      "\n",
      "    accuracy                           0.87      8221\n",
      "   macro avg       0.81      0.70      0.74      8221\n",
      "weighted avg       0.86      0.87      0.86      8221\n",
      "\n",
      "[[ 648  817]\n",
      " [ 245 6511]]\n"
     ]
    }
   ],
   "source": [
    "print(\"Logistic Regression accuracy\", accuracy_score(preds3, y_test))\n",
    "print(classification_report(preds3, y_test))\n",
    "print(confusion_matrix(preds3, y_test))"
   ]
  },
  {
   "cell_type": "code",
   "execution_count": 94,
   "metadata": {},
   "outputs": [],
   "source": [
    "metrics = dict()\n",
    "metrics['Accuracy'] = accuracy_score(y_test, preds3)\n",
    "stats = confusion_matrix(y_test, preds3)"
   ]
  },
  {
   "cell_type": "code",
   "execution_count": 95,
   "metadata": {},
   "outputs": [
    {
     "data": {
      "text/html": [
       "<div>\n",
       "<style scoped>\n",
       "    .dataframe tbody tr th:only-of-type {\n",
       "        vertical-align: middle;\n",
       "    }\n",
       "\n",
       "    .dataframe tbody tr th {\n",
       "        vertical-align: top;\n",
       "    }\n",
       "\n",
       "    .dataframe thead th {\n",
       "        text-align: right;\n",
       "    }\n",
       "</style>\n",
       "<table border=\"1\" class=\"dataframe\">\n",
       "  <thead>\n",
       "    <tr style=\"text-align: right;\">\n",
       "      <th></th>\n",
       "      <th>Accuracy</th>\n",
       "      <th>Precision</th>\n",
       "      <th>Sensitivity</th>\n",
       "      <th>Specificity</th>\n",
       "    </tr>\n",
       "  </thead>\n",
       "  <tbody>\n",
       "    <tr>\n",
       "      <th>RF Model</th>\n",
       "      <td>0.746016</td>\n",
       "      <td>0.936812</td>\n",
       "      <td>0.766785</td>\n",
       "      <td>0.575588</td>\n",
       "    </tr>\n",
       "    <tr>\n",
       "      <th>LR Model</th>\n",
       "      <td>0.865345</td>\n",
       "      <td>0.970077</td>\n",
       "      <td>0.875955</td>\n",
       "      <td>0.778275</td>\n",
       "    </tr>\n",
       "    <tr>\n",
       "      <th>LR Model</th>\n",
       "      <td>0.870210</td>\n",
       "      <td>0.916456</td>\n",
       "      <td>0.940093</td>\n",
       "      <td>0.296753</td>\n",
       "    </tr>\n",
       "    <tr>\n",
       "      <th>Multinomial NB Model</th>\n",
       "      <td>0.870210</td>\n",
       "      <td>0.916456</td>\n",
       "      <td>0.940093</td>\n",
       "      <td>0.296753</td>\n",
       "    </tr>\n",
       "    <tr>\n",
       "      <th>RF Model Balanced</th>\n",
       "      <td>0.784576</td>\n",
       "      <td>0.913406</td>\n",
       "      <td>0.837746</td>\n",
       "      <td>0.348264</td>\n",
       "    </tr>\n",
       "  </tbody>\n",
       "</table>\n",
       "</div>"
      ],
      "text/plain": [
       "                      Accuracy  Precision  Sensitivity  Specificity\n",
       "RF Model              0.746016   0.936812     0.766785     0.575588\n",
       "LR Model              0.865345   0.970077     0.875955     0.778275\n",
       "LR Model              0.870210   0.916456     0.940093     0.296753\n",
       "Multinomial NB Model  0.870210   0.916456     0.940093     0.296753\n",
       "RF Model Balanced     0.784576   0.913406     0.837746     0.348264"
      ]
     },
     "execution_count": 95,
     "metadata": {},
     "output_type": "execute_result"
    }
   ],
   "source": [
    "evaluation_table = evaluation_table.append(pd.Series(evaluation_helper(stats, metrics), name='LR Model Balanced'))\n",
    "evaluation_table.head()"
   ]
  },
  {
   "cell_type": "code",
   "execution_count": null,
   "metadata": {},
   "outputs": [],
   "source": []
  },
  {
   "cell_type": "code",
   "execution_count": 71,
   "metadata": {},
   "outputs": [],
   "source": [
    "# Model4 Multinomial Naive Bayes\n",
    "# We evaluate this based on Count Vector\n",
    "\n",
    "from sklearn.naive_bayes import MultinomialNB\n",
    "m_nb = MultinomialNB()\n",
    "m_nb.fit(X_train_nb, y_train)\n",
    "\n",
    "preds4 = m_nb.predict(X_test_nb)"
   ]
  },
  {
   "cell_type": "code",
   "execution_count": 72,
   "metadata": {},
   "outputs": [
    {
     "name": "stdout",
     "output_type": "stream",
     "text": [
      "Multinomial NB accuracy 0.8702104366865345\n",
      "              precision    recall  f1-score   support\n",
      "\n",
      "           0       0.30      0.38      0.33       704\n",
      "           1       0.94      0.92      0.93      7517\n",
      "\n",
      "    accuracy                           0.87      8221\n",
      "   macro avg       0.62      0.65      0.63      8221\n",
      "weighted avg       0.89      0.87      0.88      8221\n",
      "\n",
      "[[ 265  439]\n",
      " [ 628 6889]]\n"
     ]
    }
   ],
   "source": [
    "print(\"Multinomial NB accuracy\", accuracy_score(preds4, y_test))\n",
    "print(classification_report(preds4, y_test))\n",
    "print(confusion_matrix(preds4, y_test))"
   ]
  },
  {
   "cell_type": "code",
   "execution_count": 73,
   "metadata": {},
   "outputs": [],
   "source": [
    "metrics = dict()\n",
    "metrics['Accuracy'] = accuracy_score(y_test, preds4)\n",
    "stats = confusion_matrix(y_test, preds4)"
   ]
  },
  {
   "cell_type": "code",
   "execution_count": 75,
   "metadata": {},
   "outputs": [
    {
     "data": {
      "text/html": [
       "<div>\n",
       "<style scoped>\n",
       "    .dataframe tbody tr th:only-of-type {\n",
       "        vertical-align: middle;\n",
       "    }\n",
       "\n",
       "    .dataframe tbody tr th {\n",
       "        vertical-align: top;\n",
       "    }\n",
       "\n",
       "    .dataframe thead th {\n",
       "        text-align: right;\n",
       "    }\n",
       "</style>\n",
       "<table border=\"1\" class=\"dataframe\">\n",
       "  <thead>\n",
       "    <tr style=\"text-align: right;\">\n",
       "      <th></th>\n",
       "      <th>Accuracy</th>\n",
       "      <th>Precision</th>\n",
       "      <th>Sensitivity</th>\n",
       "      <th>Specificity</th>\n",
       "    </tr>\n",
       "  </thead>\n",
       "  <tbody>\n",
       "    <tr>\n",
       "      <th>RF Model</th>\n",
       "      <td>0.746016</td>\n",
       "      <td>0.936812</td>\n",
       "      <td>0.766785</td>\n",
       "      <td>0.575588</td>\n",
       "    </tr>\n",
       "    <tr>\n",
       "      <th>LR Model</th>\n",
       "      <td>0.865345</td>\n",
       "      <td>0.970077</td>\n",
       "      <td>0.875955</td>\n",
       "      <td>0.778275</td>\n",
       "    </tr>\n",
       "    <tr>\n",
       "      <th>LR Model</th>\n",
       "      <td>0.870210</td>\n",
       "      <td>0.916456</td>\n",
       "      <td>0.940093</td>\n",
       "      <td>0.296753</td>\n",
       "    </tr>\n",
       "    <tr>\n",
       "      <th>Multinomial NB Model</th>\n",
       "      <td>0.870210</td>\n",
       "      <td>0.916456</td>\n",
       "      <td>0.940093</td>\n",
       "      <td>0.296753</td>\n",
       "    </tr>\n",
       "  </tbody>\n",
       "</table>\n",
       "</div>"
      ],
      "text/plain": [
       "                      Accuracy  Precision  Sensitivity  Specificity\n",
       "RF Model              0.746016   0.936812     0.766785     0.575588\n",
       "LR Model              0.865345   0.970077     0.875955     0.778275\n",
       "LR Model              0.870210   0.916456     0.940093     0.296753\n",
       "Multinomial NB Model  0.870210   0.916456     0.940093     0.296753"
      ]
     },
     "execution_count": 75,
     "metadata": {},
     "output_type": "execute_result"
    }
   ],
   "source": [
    "evaluation_table = evaluation_table.append(pd.Series(evaluation_helper(stats, metrics),name='Multinomial NB Model'))\n",
    "evaluation_table.head()"
   ]
  },
  {
   "cell_type": "code",
   "execution_count": null,
   "metadata": {},
   "outputs": [],
   "source": []
  },
  {
   "cell_type": "code",
   "execution_count": null,
   "metadata": {},
   "outputs": [],
   "source": []
  },
  {
   "cell_type": "code",
   "execution_count": null,
   "metadata": {},
   "outputs": [],
   "source": []
  },
  {
   "cell_type": "code",
   "execution_count": null,
   "metadata": {},
   "outputs": [],
   "source": []
  },
  {
   "cell_type": "code",
   "execution_count": null,
   "metadata": {},
   "outputs": [],
   "source": [
    "X_train = X_train_text.copy()\n",
    "X_test = X_test_text.copy()"
   ]
  },
  {
   "cell_type": "code",
   "execution_count": null,
   "metadata": {},
   "outputs": [],
   "source": [
    "# Clearly we can see imbalance in data, let balance the data using SMOTE\n",
    "\n",
    "from imblearn.over_sampling import SMOTE \n",
    "\n",
    "x_train = pd.DataFrame(X_train)\n",
    "X_resample, y_resampled = SMOTE(random_state=2).fit_resample(X_train, y_train)\n",
    "\n"
   ]
  },
  {
   "cell_type": "code",
   "execution_count": null,
   "metadata": {},
   "outputs": [],
   "source": [
    "print(X_resample.shape)\n",
    "print(X_test.shape)\n",
    "print(y_resampled.shape)\n",
    "print(y_test.shape)"
   ]
  },
  {
   "cell_type": "code",
   "execution_count": null,
   "metadata": {},
   "outputs": [],
   "source": [
    "# Now that we have handled the imbalanced data lets run the models again."
   ]
  },
  {
   "cell_type": "code",
   "execution_count": null,
   "metadata": {},
   "outputs": [],
   "source": [
    "# Model 1: Random Forest Classifier\n",
    "\n",
    "from sklearn.ensemble import RandomForestClassifier\n",
    "from sklearn.metrics import confusion_matrix, classification_report\n",
    "\n",
    "classifier = RandomForestClassifier(n_estimators=100, max_depth=None, random_state=seed, n_jobs=-1)\n",
    "classifier.fit(X_train, y_train)\n",
    "preds1 = classifier.predict(X_test)"
   ]
  },
  {
   "cell_type": "code",
   "execution_count": null,
   "metadata": {},
   "outputs": [],
   "source": [
    "print(\"Random Forest Model accuracy\", accuracy_score(preds1, y_test))\n",
    "print(classification_report(preds1, y_test))\n",
    "print(confusion_matrix(preds1, y_test))"
   ]
  },
  {
   "cell_type": "code",
   "execution_count": null,
   "metadata": {},
   "outputs": [],
   "source": []
  },
  {
   "cell_type": "code",
   "execution_count": null,
   "metadata": {},
   "outputs": [],
   "source": [
    "# Model3: Logistic Regression\n",
    "\n",
    "from sklearn.linear_model import LogisticRegression\n",
    "from sklearn.model_selection import KFold, cross_val_score\n",
    "\n",
    "logit = LogisticRegression(C=1, multi_class = 'ovr')\n",
    "logit.fit(X_train, y_train)\n",
    "preds3 = logit.predict(X_test)"
   ]
  },
  {
   "cell_type": "code",
   "execution_count": null,
   "metadata": {},
   "outputs": [],
   "source": [
    "print(\"Logistic Regression accuracy\", accuracy_score(preds3, y_test))\n",
    "print(classification_report(preds3, y_test))\n",
    "print(confusion_matrix(preds3, y_test))"
   ]
  },
  {
   "cell_type": "code",
   "execution_count": null,
   "metadata": {},
   "outputs": [],
   "source": []
  },
  {
   "cell_type": "code",
   "execution_count": null,
   "metadata": {},
   "outputs": [],
   "source": []
  },
  {
   "cell_type": "code",
   "execution_count": null,
   "metadata": {},
   "outputs": [],
   "source": [
    "from sklearn.model_selection import GridSearchCV"
   ]
  },
  {
   "cell_type": "code",
   "execution_count": null,
   "metadata": {},
   "outputs": [],
   "source": [
    "n_estimators = [100, 300, 500]\n",
    "max_depth = [5, 8, 15, 25, 30]\n",
    "min_samples_split = [2, 5, 10, 15]\n",
    "min_samples_leaf = [1, 2, 5, 10] \n",
    "\n",
    "hyperF = dict(n_estimators = n_estimators, max_depth = max_depth, min_samples_split = min_samples_split, min_samples_leaf = min_samples_leaf)\n",
    "\n",
    "gridF = GridSearchCV(RandomForestClassifier(random_state=1), hyperF, cv = 3, verbose = 1, n_jobs = -1)\n",
    "bestF = gridF.fit(X_train, y_train)"
   ]
  },
  {
   "cell_type": "code",
   "execution_count": null,
   "metadata": {},
   "outputs": [],
   "source": []
  },
  {
   "cell_type": "code",
   "execution_count": null,
   "metadata": {},
   "outputs": [],
   "source": [
    "# Model 1: Random Forest Classifier\n",
    "\n",
    "from sklearn.ensemble import RandomForestClassifier\n",
    "from sklearn.metrics import confusion_matrix, classification_report\n",
    "from pprint import pprint\n",
    "\n",
    "classifier = RandomForestClassifier(n_estimators=100, max_depth=None, random_state=seed, n_jobs=-1)\n",
    "classifier.fit(X_train, y_train)\n",
    "preds1 = classifier.predict(X_test)"
   ]
  },
  {
   "cell_type": "code",
   "execution_count": null,
   "metadata": {},
   "outputs": [],
   "source": [
    "print(\"Logistic Regression accuracy\", accuracy_score(preds3, y_test))\n",
    "print(classification_report(preds3, y_test))\n",
    "print(confusion_matrix(preds3, y_test))"
   ]
  },
  {
   "cell_type": "code",
   "execution_count": null,
   "metadata": {},
   "outputs": [],
   "source": []
  },
  {
   "cell_type": "code",
   "execution_count": null,
   "metadata": {},
   "outputs": [],
   "source": []
  },
  {
   "cell_type": "code",
   "execution_count": null,
   "metadata": {},
   "outputs": [],
   "source": []
  }
 ],
 "metadata": {
  "kernelspec": {
   "display_name": "Python 3",
   "language": "python",
   "name": "python3"
  },
  "language_info": {
   "codemirror_mode": {
    "name": "ipython",
    "version": 3
   },
   "file_extension": ".py",
   "mimetype": "text/x-python",
   "name": "python",
   "nbconvert_exporter": "python",
   "pygments_lexer": "ipython3",
   "version": "3.7.6"
  }
 },
 "nbformat": 4,
 "nbformat_minor": 4
}
